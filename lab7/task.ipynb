{
 "cells": [
  {
   "cell_type": "markdown",
   "metadata": {},
   "source": [
    "<div align=\"right\"><h5>Бронников Максим Андреевич</h5></div>"
   ]
  },
  {
   "cell_type": "markdown",
   "metadata": {},
   "source": [
    "<div align=\"right\"><h5>группа: M8О-407Б-17, №4 по списку</h5></div>"
   ]
  },
  {
   "cell_type": "markdown",
   "metadata": {},
   "source": [
    "<h1><center>Лабораторная работа №7</center></h1>"
   ]
  },
  {
   "cell_type": "markdown",
   "metadata": {},
   "source": [
    "***Задание:*** Решить краевую задачу для *дифференциального уравнения эллиптического типа*. Аппроксимацию уравнения произвести с использованием *центрально-разностной схемы*. Для решения дискретного аналога применить следующие методы: *метод простых итераций (метод Либмана), метод Зейделя, метод простых итераций с верхней релаксацией*. В различные моменты времени вычислить погрешность численного решения путем сравнения результатов с приведенным в задании аналитическим решением $u(x, t)$. Исследовать зависимость погрешности от сеточных параметров $\\tau$ и $h$."
   ]
  },
  {
   "cell_type": "markdown",
   "metadata": {},
   "source": [
    "### <center> Вариант №4 </center>"
   ]
  },
  {
   "cell_type": "code",
   "execution_count": 1,
   "metadata": {},
   "outputs": [],
   "source": [
    "import ipywidgets as widgets\n",
    "from ipywidgets import interact\n",
    "from IPython.display import display\n",
    "import random\n",
    "import matplotlib.pyplot as plt\n",
    "import math\n",
    "import sys\n",
    "import warnings\n",
    "import numpy as np\n",
    "from functools import reduce\n",
    "from mpl_toolkits.mplot3d import Axes3D"
   ]
  },
  {
   "cell_type": "markdown",
   "metadata": {},
   "source": [
    "***Уравнение:***\n",
    "\n",
    "$$\\displaystyle\\frac{\\partial^2 u}{\\partial x^2} +  \\displaystyle\\frac{\\partial^2 u}{\\partial y^2} = 0 $$\n",
    "\n",
    "***Граничные условия:***\n",
    "\n",
    "\\begin{equation*}\n",
    " \\begin{cases}\n",
    "   u_{x}' (0, \\: y) = \\phi_0(y) = e^y\n",
    "   \\\\\n",
    "   u_{x}' (\\pi, \\: y) = \\phi_1(y) = -e^y\n",
    "   \\\\\n",
    "   u(x, \\: 0) = \\psi_0(x) = \\sin{x}\n",
    "   \\\\\n",
    "   u(x, 1) = \\psi_1(x) = e \\sin{x}\n",
    " \\end{cases}\n",
    "\\end{equation*}\n",
    "\n",
    "***Аналитическое решение:***\n",
    "$$u(x, t) = e^{y} \\sin{x}$$"
   ]
  },
  {
   "cell_type": "code",
   "execution_count": 2,
   "metadata": {},
   "outputs": [],
   "source": [
    "def psi_0(x):\n",
    "    return math.sin(x)\n",
    "\n",
    "def psi_1(x):\n",
    "    return math.sin(x) * math.e\n",
    "\n",
    "def phi_0(y):\n",
    "    return math.exp(y)\n",
    "\n",
    "def phi_1(y):\n",
    "    return -math.exp(y)\n",
    "\n",
    "# analytic solve\n",
    "def u(x, y):\n",
    "    return math.exp(y)*math.sin(x)"
   ]
  },
  {
   "cell_type": "markdown",
   "metadata": {},
   "source": [
    "## <center> Конечно-разностная схема </center>"
   ]
  },
  {
   "cell_type": "markdown",
   "metadata": {},
   "source": [
    "<h3><center> Общая концепция </center></h3>"
   ]
  },
  {
   "cell_type": "markdown",
   "metadata": {},
   "source": [
    "Будем решать задачу на заданном промежутке  от $0$ до $l_x$ по координате $x$ и на промежутке от $0$ до $l_y$ по координате $y$.\n",
    "\n",
    "Рассмотрим конечно-разностную схему решения краевой задачи на сетке с граничными парамерами $l_x$, $l_y$ и параметрами насыщенности сетки $N_x$, $N_y$. Тогда размер шага по каждой из координат определяется:\n",
    "$$h_x = \\displaystyle\\frac{l_x}{N_x - 1}, \\; h_y = \\displaystyle\\frac{N_y}{N_y - 1}$$\n",
    "\n",
    "Попробуем определить связь между дискретными значениями функции путем разностной апроксимации производной:\n",
    "\n",
    "$$\\displaystyle\\frac{\\partial^2 u}{\\partial x^2}(x_j, y_i) + \\displaystyle\\frac{\\partial^2 u}{\\partial y^2}(x_j, y_i) = \\displaystyle\\frac{u_{j-1, i} - 2u_{j, i} + u_{j+1, i}}{h_x^2} + \\displaystyle\\frac{u_{j, i-1} - 2u_{j, i} + u_{j, i+1}}{h_y^2}$$\n",
    "\n",
    "Тогда выражая из искомого уравнения значение\n",
    "$u_{i, j} = \\displaystyle\\frac{h^2_y (u_{j-1, i} + u_{j+1, i}) + h^2_x (u_{j, i-1} + u_{j, i+1})}{2(h^2_x + h^2_y)}$, мы получаем основу для применения иттерационных методов решения *СЛАУ*.\n",
    "\n",
    "Для расчета $u_{j, 0}$ и $u_{0, i}$ следует использовать граничные условия."
   ]
  },
  {
   "cell_type": "markdown",
   "metadata": {},
   "source": [
    "<center><h3> Начальная инициализация </h3></center>"
   ]
  },
  {
   "cell_type": "markdown",
   "metadata": {},
   "source": [
    "Поскольку в нашем варианте известны граничные значения $u(x, l_{y0})$ и $u(x, l_{y1})$, то для начальной инициаизации значений в сетке можно использовать линейную интерполяцию при фиксированном $x = x_j$ для улучшения сходимости:\n",
    "\n",
    "$$u_{j, i} = \\frac{u(x_j, l_{y1}) - u(x_j, l_{y0})}{l_{y1} - l_{y0}} \\cdot (y_i - l_{y0}) + u(x_j, l_{y0})$$"
   ]
  },
  {
   "cell_type": "markdown",
   "metadata": {},
   "source": [
    "<center><h3> Граничные значения </h3></center>"
   ]
  },
  {
   "cell_type": "markdown",
   "metadata": {},
   "source": [
    "Для границ по $y$ координате значения заданы явно граничным условием, и мы можем определить их на начальном этапе при инициализации.\n",
    "\n",
    "Для границ по $x$ координате аппроксимируем значение производной из граничного условия с помощью трёхточечной аппроксимации в точках $x = 0$ и $x = l$ и получаем 2 новых уравнения в *СЛАУ* соответственно:\n",
    "\n",
    "$$\\displaystyle\\frac{-3u_{0, i} + 4u_{1, i} - u_{2, i}}{2h_x} = \\phi_0(y_i)$$\n",
    "\n",
    "$$\\displaystyle\\frac{3u_{N, i} - 4u_{N-1, i} + u_{N-2, i}}{2h_x} = \\phi_1(y_i)$$\n",
    "\n",
    "Тогда основа для иттерационного метода:\n",
    "\n",
    "$$u_{0, i} = \\displaystyle\\frac{-2h_x \\phi_0(y_i) + 4u_{1, i} - u_{2, i}}{3}$$\n",
    "\n",
    "$$u_{N, i} = \\displaystyle\\frac{2h_x \\phi_1(y_i) + 4u_{N-1, i} - u_{N-2, i}}{3}$$"
   ]
  },
  {
   "cell_type": "markdown",
   "metadata": {},
   "source": [
    "<center><h3> Методы решения СЛАУ </h3></center>"
   ]
  },
  {
   "cell_type": "markdown",
   "metadata": {},
   "source": [
    "Для решения СЛАУ можно воспользоваться иттерационными методами, такими как *метод простых иттераций, метод Зейделя* и *метод верхних релаксаций*. Первые два метода были изучены нами ранее, когда как последний является небольшой модификацией *метода Зейделя* с добавлением параметра *w*, который позволяет регулировать скорость сходимости метода."
   ]
  },
  {
   "cell_type": "markdown",
   "metadata": {},
   "source": [
    "## <center> Реализация </center>"
   ]
  },
  {
   "cell_type": "code",
   "execution_count": 3,
   "metadata": {},
   "outputs": [],
   "source": [
    "# class will return grid of values\n",
    "class Schema:\n",
    "    def __init__(self, psi0 = psi_0, psi1 = psi_1, phi0 = phi_0, phi1 = phi_1, lx0 = 0,\n",
    "                 lx1 = math.pi, ly0 = 0, ly1 = 1, solver=\"zeidel\", relax=0.1, epsilon = 0.01):\n",
    "        self.psi1 = psi1\n",
    "        self.psi0 = psi0\n",
    "        self.phi0 = phi0\n",
    "        self.phi1 = phi1\n",
    "        self.lx0 = lx0\n",
    "        self.ly0 = ly0\n",
    "        self.lx1 = lx1\n",
    "        self.ly1 = ly1\n",
    "        self.eps = epsilon\n",
    "        self.method = None\n",
    "        if solver == \"zeidel\":\n",
    "            self.method = self.zeidel_step\n",
    "        elif solver == \"simple\":\n",
    "            self.method = self.simple_eiler_step\n",
    "        elif solver == \"relaxation\":\n",
    "            self.method = lambda x, y, m: self.relaxation_step(x, y, m, relax)\n",
    "        else:\n",
    "            raise ValueError(\"Wrong solver name\")\n",
    "        \n",
    "        \n",
    "    def zeidel_step(self, X, Y, M):\n",
    "        return self.relaxation_step(X, Y, M, w=1)\n",
    "    \n",
    "    def relaxation_step(self, X, Y, M, w):\n",
    "        # norm of diffrance between value matrixes\n",
    "        norm = 0.0\n",
    "        hx2 = self.hx * self.hx\n",
    "        hy2 = self.hy * self.hy\n",
    "        \n",
    "        for i in range(1, self.Ny - 1):\n",
    "            # compute from first equation\n",
    "            diff = w*((-2*self.hx*self.phi0(Y[i][0]) + 4*M[i][1] - M[i][2])/3 - M[i][0])\n",
    "            M[i][0] += diff\n",
    "            # diff between last and now mtrx\n",
    "            diff = abs(diff)\n",
    "            norm = diff if diff > norm else norm\n",
    "            # compute inner equation\n",
    "            for j in range(1, self.Nx - 1):\n",
    "                diff = hy2*(M[i][j-1] + M[i][j+1])\n",
    "                diff += hx2*(M[i-1][j] + M[i+1][j])\n",
    "                diff /= 2*(hy2 + hx2)\n",
    "                diff -= M[i][j]\n",
    "                diff *= w\n",
    "                M[i][j] += diff\n",
    "                # compute elements diff\n",
    "                diff = abs(diff)\n",
    "                norm = diff if diff > norm else norm\n",
    "            # compute from last equation\n",
    "            diff = w*((2*self.hx*self.phi1(Y[i][-1]) + 4*M[i][-2] - M[i][-3])/3 - M[i][-1])\n",
    "            M[i][-1] += diff\n",
    "            # diff between last and now mtrx\n",
    "            diff = abs(diff)\n",
    "            norm = diff if diff > norm else norm\n",
    "            \n",
    "        return norm\n",
    "    \n",
    "    def simple_eiler_step(self, X, Y, M):\n",
    "        temp = [[0.0 for _ in range(self.Nx)] for _ in range(self.Ny)]\n",
    "        # norm of diffrance between value matrixes\n",
    "        norm = 0.0\n",
    "        hx2 = self.hx * self.hx\n",
    "        hy2 = self.hy * self.hy\n",
    "        \n",
    "        for i in range(1, self.Ny - 1):\n",
    "            # compute from first equation\n",
    "            temp[i][0] = (-2*self.hx*self.phi0(Y[i][0]) + 4*M[i][1] - M[i][2]) / 3\n",
    "            # diff between last and now mtrx\n",
    "            diff = abs(temp[i][0] - M[i][0])\n",
    "            norm = diff if diff > norm else norm\n",
    "            # compute inner equation\n",
    "            for j in range(1, self.Nx - 1):\n",
    "                temp[i][j] = hy2*(M[i][j-1] + M[i][j+1])\n",
    "                temp[i][j] += hx2*(M[i-1][j] + M[i+1][j])\n",
    "                temp[i][j] /= 2*(hy2 + hx2)\n",
    "                # compute elements diff\n",
    "                diff = abs(temp[i][j] - M[i][j])\n",
    "                norm = diff if diff > norm else norm\n",
    "            # compute from last equation\n",
    "            temp[i][-1] = (2*self.hx*self.phi1(Y[i][-1]) + 4*M[i][-2] - M[i][-3]) / 3\n",
    "            # diff between last and now mtrx\n",
    "            diff = abs(temp[i][0] - M[i][0])\n",
    "            norm = diff if diff > norm else norm\n",
    "            \n",
    "        # move data from temp to main matrix\n",
    "        for i in range(1, self.Ny - 1):\n",
    "            M[i] = temp[i]\n",
    "            \n",
    "        return norm\n",
    "        \n",
    "        \n",
    "    def set_l0_l1(self, lx0, lx1, ly0, ly1):\n",
    "        self.lx0 = lx0\n",
    "        self.lx1 = lx1\n",
    "        self.ly0 = ly0\n",
    "        self.ly1 = ly1\n",
    "        \n",
    "        \n",
    "    def _compute_h(self):\n",
    "        self.hx = (self.lx1 - self.lx0) / (self.Nx - 1)\n",
    "        self.hy = (self.ly1 - self.ly0) / (self.Ny - 1)\n",
    "    \n",
    "      \n",
    "    @staticmethod\n",
    "    def nparange(start, end, step = 1):\n",
    "        now = start\n",
    "        e = 0.00000000001\n",
    "        while now - e <= end:\n",
    "            yield now\n",
    "            now += step\n",
    "            \n",
    "    # linear interpolation init\n",
    "    def init_values(self, X, Y):\n",
    "        ans = [[0 for _ in range(self.Nx)] for _ in range(self.Ny)]\n",
    "        for j in range(self.Nx):\n",
    "            coeff = (self.psi1(X[-1][j]) - self.psi0(X[0][j])) / (self.ly1 - self.ly0)\n",
    "            addition = self.psi0(X[0][j])\n",
    "            for i in range(self.Ny):\n",
    "                ans[i][j] = coeff*(Y[i][j] - self.ly0) + addition\n",
    "        return ans\n",
    "\n",
    "    \n",
    "    def __call__(self, Nx=10, Ny=10):\n",
    "        # compute hx and hy\n",
    "        self.Nx, self.Ny = Nx, Ny\n",
    "        self._compute_h()\n",
    "\n",
    "        # init grid:\n",
    "        # compute x, y values:\n",
    "        x = list(self.nparange(self.lx0, self.lx1, self.hx))\n",
    "        y = list(self.nparange(self.ly0, self.ly1, self.hy))\n",
    "        # grid\n",
    "        X = [x for _ in range(self.Ny)]\n",
    "        Y = [[y[i] for _ in x] for i in range(self.Ny)]\n",
    "        # get first values of grid\n",
    "        ans = self.init_values(X, Y)\n",
    "        \n",
    "        self.itters = 0\n",
    "        \n",
    "        while(self.method(X, Y, ans) >= self.eps):\n",
    "            self.itters += 1\n",
    "        \n",
    "        return X, Y, ans"
   ]
  },
  {
   "cell_type": "markdown",
   "metadata": {},
   "source": [
    "<h2><center> Результаты работы </center></h2>"
   ]
  },
  {
   "cell_type": "markdown",
   "metadata": {},
   "source": [
    "<h3><center> Зависимость погрешности от параметра $h$ </center></h3>"
   ]
  },
  {
   "cell_type": "markdown",
   "metadata": {},
   "source": [
    "#### Вычисление погрешностей"
   ]
  },
  {
   "cell_type": "markdown",
   "metadata": {},
   "source": [
    "Вычисление погрешности приближенного решения по формуле:\n",
    "\n",
    "$$RMSE = \\sqrt{\\displaystyle\\frac{\\sum\\limits^{Ny}_{i = 0} \\sum\\limits^{Nx}_{j = 0}(y_i - \\hat{y_i})^2}{N_x \\cdot N_y}}$$"
   ]
  },
  {
   "cell_type": "code",
   "execution_count": 4,
   "metadata": {},
   "outputs": [],
   "source": [
    "def epsilon(x, y, z, f):\n",
    "    ans = 0.0\n",
    "    for i in range(len(z)):\n",
    "        for j in range(len(z[i])):\n",
    "            ans += (z[i][j] - f(x[i][j], y[i][j]))**2\n",
    "    return (ans / (len(z) * len(z[0])))**0.5"
   ]
  },
  {
   "cell_type": "markdown",
   "metadata": {},
   "source": [
    "Постоение зависимости погрешности от шага $h$."
   ]
  },
  {
   "cell_type": "code",
   "execution_count": 5,
   "metadata": {},
   "outputs": [],
   "source": [
    "def get_graphic_h(solver, real_f):\n",
    "    h = []\n",
    "    e = []\n",
    "    for N in range(4, 80, 3):\n",
    "        x, y, z = solver(N, N)\n",
    "        h.append(solver.hx)\n",
    "        e.append(epsilon(x, y, z, real_f))\n",
    "#         print(solver.sigma)\n",
    "    return h, e"
   ]
  },
  {
   "cell_type": "markdown",
   "metadata": {},
   "source": [
    "#### График погрешностей\n",
    "\n",
    "Построим график зависимости погрешности $\\epsilon$ от размера шага $h_x$ по координате $x$, но уменьшать размер шага будем пропорционально уменьшению шага $h_y$ по координате $y$."
   ]
  },
  {
   "cell_type": "code",
   "execution_count": 6,
   "metadata": {},
   "outputs": [],
   "source": [
    "explict = Schema(epsilon=0.00001)"
   ]
  },
  {
   "cell_type": "code",
   "execution_count": 7,
   "metadata": {},
   "outputs": [
    {
     "data": {
      "image/png": "[encoded data removed]",
      "text/plain": [
       "<Figure size 1152x720 with 2 Axes>"
      ]
     },
     "metadata": {
      "needs_background": "light"
     },
     "output_type": "display_data"
    }
   ],
   "source": [
    "plt.figure(figsize = (16, 10))\n",
    "\n",
    "plt.subplot(2, 1, 1)\n",
    "plt.title(\"Зависимость погрешности от длины шага\")\n",
    "h, e = get_graphic_h(explict, u)\n",
    "\n",
    "plt.plot(h, e, label=\"Значение погрешности\", color = \"red\")\n",
    "plt.xlabel(\"h\")\n",
    "plt.ylabel(\"e\")\n",
    "# plt.ylim([0, 2.1])\n",
    "# plt.xticks(list(explict.nparange(0, 1.6, 0.1)))\n",
    "# plt.yticks(list(explict.nparange(0, 2.1, 0.2)))\n",
    "plt.legend()\n",
    "plt.grid()\n",
    "\n",
    "plt.subplot(2, 1, 2)\n",
    "plt.plot(list(map(math.log, h)), list(map(math.log, e)), label=\"Полученная зависимость\")\n",
    "plt.plot([-3, -0.5], [-3, -0.5], label=\"Зависимость $O(h)$\")\n",
    "plt.plot([-3, -0.5], [-3, 2], label=\"Зависимость $O(h^2)$\")\n",
    "plt.xlabel(\"log h\")\n",
    "plt.ylabel(\"log e\")\n",
    "# plt.ylim([-3, 1])\n",
    "# plt.xlim([-2.1, 0.5])\n",
    "# plt.xticks(list(explict.nparange(-2, 0.5, 0.1)))\n",
    "# plt.yticks(list(explict.nparange(-3, 1, 0.2)))\n",
    "plt.legend()\n",
    "plt.grid()"
   ]
  },
  {
   "cell_type": "markdown",
   "metadata": {},
   "source": [
    "<h3><center> Графическая иллюстрация </center></h3>"
   ]
  },
  {
   "cell_type": "markdown",
   "metadata": {},
   "source": [
    "#### Сетка для реальной функции"
   ]
  },
  {
   "cell_type": "code",
   "execution_count": 8,
   "metadata": {},
   "outputs": [],
   "source": [
    "def real_z(lx0, lx1, ly0, ly1, f):\n",
    "    x = np.arange(lx0, lx1 + 0.005, 0.005)\n",
    "    y = np.arange(ly0, ly1 + 0.005, 0.005)\n",
    "    X = np.ones((y.shape[0], x.shape[0]))\n",
    "    Y = np.ones((x.shape[0], y.shape[0]))\n",
    "    Z = np.ones((y.shape[0], x.shape[0]))\n",
    "    for i in range(Y.shape[0]):\n",
    "        Y[i] = y\n",
    "    Y = Y.T\n",
    "    for i in range(X.shape[0]):\n",
    "        X[i] = x\n",
    "    for i in range(Z.shape[0]):\n",
    "        for j in range(Z.shape[1]):\n",
    "            Z[i, j] = f(X[i, j], Y[i, j])\n",
    "    return X, Y, Z"
   ]
  },
  {
   "cell_type": "markdown",
   "metadata": {},
   "source": [
    "#### Трёхмерное представление"
   ]
  },
  {
   "cell_type": "code",
   "execution_count": 9,
   "metadata": {},
   "outputs": [
    {
     "data": {
      "application/vnd.jupyter.widget-view+json": {
       "model_id": "faecf2577217447199041dd7d2e06e64",
       "version_major": 2,
       "version_minor": 0
      },
      "text/plain": [
       "interactive(children=(IntSlider(value=5, description='Nx', max=200, min=5, step=2), IntSlider(value=5, descrip…"
      ]
     },
     "metadata": {},
     "output_type": "display_data"
    }
   ],
   "source": [
    "def plot_1(Nx = 5, Ny=5, eps=1, plot = False):\n",
    "    schema = Schema(epsilon=eps, solver=\"relaxation\", relax=1.3)\n",
    "    x, y, z = schema(Nx, Ny)\n",
    "    fig = plt.figure(num=1, figsize=(19, 12), clear=True)\n",
    "    ax = fig.add_subplot(1, 1, 1, projection='3d')\n",
    "    if plot:\n",
    "        ax.plot_wireframe(*real_z(0, math.pi, 0, 1, u), color=\"green\")\n",
    "    ax.plot_surface(np.array(x), np.array(y), np.array(z))\n",
    "    ax.set(xlabel='x', ylabel='y', zlabel='z', \n",
    "           title='График приближения и реальной функции конечно-разностным методом')\n",
    "    fig.tight_layout()\n",
    "\n",
    "epsilon = [1.0 / (10.0**n) for n in range(7)]\n",
    "interact(plot_1, Nx=(5, 200, 2), Ny=(5, 200, 3), eps=epsilon,  plot_true = [False, True])\n",
    "None"
   ]
  },
  {
   "cell_type": "markdown",
   "metadata": {},
   "source": [
    "#### Сходимость методов"
   ]
  },
  {
   "cell_type": "code",
   "execution_count": 10,
   "metadata": {},
   "outputs": [
    {
     "name": "stdout",
     "output_type": "stream",
     "text": [
      "Количество иттераций метода простых иттераций: 41\n"
     ]
    }
   ],
   "source": [
    "schema = Schema(epsilon=0.001, solver=\"simple\")\n",
    "schema(10, 10)\n",
    "print(\"Количество иттераций метода простых иттераций:\", schema.itters)"
   ]
  },
  {
   "cell_type": "code",
   "execution_count": 11,
   "metadata": {},
   "outputs": [
    {
     "name": "stdout",
     "output_type": "stream",
     "text": [
      "Количество иттераций метода Зейделя: 27\n"
     ]
    }
   ],
   "source": [
    "schema = Schema(epsilon=0.001)\n",
    "schema(10, 10)\n",
    "print(\"Количество иттераций метода Зейделя:\", schema.itters)"
   ]
  },
  {
   "cell_type": "code",
   "execution_count": 12,
   "metadata": {},
   "outputs": [
    {
     "name": "stdout",
     "output_type": "stream",
     "text": [
      "Количество иттераций метода релаксаций: 13\n"
     ]
    }
   ],
   "source": [
    "schema = Schema(epsilon=0.001, solver=\"relaxation\", relax=1.5)\n",
    "schema(10, 10)\n",
    "print(\"Количество иттераций метода релаксаций:\", schema.itters)"
   ]
  },
  {
   "cell_type": "markdown",
   "metadata": {},
   "source": [
    "###### <center>Сделано Бронниковым Максимом</center>\n",
    "###### <center>24.09.2020</center>"
   ]
  }
 ],
 "metadata": {
  "kernelspec": {
   "display_name": "Python 3",
   "language": "python",
   "name": "python3"
  },
  "language_info": {
   "codemirror_mode": {
    "name": "ipython",
    "version": 3
   },
   "file_extension": ".py",
   "mimetype": "text/x-python",
   "name": "python",
   "nbconvert_exporter": "python",
   "pygments_lexer": "ipython3",
   "version": "3.7.6"
  }
 },
 "nbformat": 4,
 "nbformat_minor": 4
}

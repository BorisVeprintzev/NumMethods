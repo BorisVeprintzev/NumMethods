{
 "cells": [
  {
   "cell_type": "markdown",
   "metadata": {},
   "source": [
    "#### <left>Бронников Максим Андреевич</left>"
   ]
  },
  {
   "cell_type": "markdown",
   "metadata": {},
   "source": [
    "*M8О-307Б, №4 по списку*"
   ]
  },
  {
   "cell_type": "markdown",
   "metadata": {},
   "source": [
    "#   <center>Лабораторная работа №4</center>\n",
    "### <center> Задание №2 </center>"
   ]
  },
  {
   "cell_type": "markdown",
   "metadata": {},
   "source": [
    "**Реализовать метод стрельбы и конечно-разностный метод решения краевой задачи для ОДУ в виде программ. С использованием разработанного программного обеспечения решить краевую задачу для обыкновенного дифференциального уравнения 2-го порядка на указанном отрезке.**\n",
    "\n",
    "**Оценить погрешность численного решения с использованием метода Рунге – Ромберга и путем сравнения с точным решением.**"
   ]
  },
  {
   "cell_type": "markdown",
   "metadata": {},
   "source": [
    "### <center> Вариант №4 </center>"
   ]
  },
  {
   "cell_type": "markdown",
   "metadata": {},
   "source": [
    "**Краевая задача:** \n",
    "\n",
    "$$\n",
    "\\begin{equation*}\n",
    " \\begin{cases}\n",
    "   x^2 (x+1)y''- 2y = 0\n",
    "   \\\\\n",
    "   y(1) = 1 + 4 \\ln{2}\n",
    "   \\\\\n",
    "   y(2) = -1 + 3 \\ln{2}\n",
    " \\end{cases}\n",
    "\\end{equation*}\n",
    "$$\n",
    "\n",
    "Для $x \\in [1, 2]$"
   ]
  },
  {
   "cell_type": "markdown",
   "metadata": {},
   "source": [
    "**Точное решение:**\n",
    "\n",
    "$$ y = -1 + \\displaystyle\\frac{2 + 2(x + 1)\\ln{|x+1|}}{x} $$"
   ]
  },
  {
   "cell_type": "markdown",
   "metadata": {},
   "source": [
    "<span style=\"color: red\"> **Внимание:** Точное решение подобрано неверно, поэтому в уравнении будет заменено: $x^2 (x+1)y''- 2y + 2x - 2 = 0, \\;$ $y(2) = 3 \\ln{3}$</span>"
   ]
  },
  {
   "cell_type": "markdown",
   "metadata": {},
   "source": [
    "<span style=\"color: red\"> **Вывод сделан на основе проверки, сделанной в системе Maxima:** </span>"
   ]
  },
  {
   "cell_type": "markdown",
   "metadata": {},
   "source": [
    "<img src=\"img/maxima.jpg\" alt=\"Maxima\" title=\"Maxima\" />"
   ]
  },
  {
   "cell_type": "markdown",
   "metadata": {},
   "source": [
    "## <center> Решение: </center>"
   ]
  },
  {
   "cell_type": "markdown",
   "metadata": {},
   "source": [
    "### <center> Преобразование функции </center>"
   ]
  },
  {
   "cell_type": "markdown",
   "metadata": {},
   "source": [
    "#### Для метода стрельбы"
   ]
  },
  {
   "cell_type": "markdown",
   "metadata": {},
   "source": [
    "Сведём исходную задачу к системе 1-го порядка к краевым условием:\n",
    "\n",
    "$$\n",
    "\\begin{equation*}\n",
    " \\begin{cases}\n",
    "   y' = z\n",
    "   \\\\\n",
    "   z' = \\displaystyle\\frac{2y + 2 - 2x}{x^2(x + 1)}\n",
    "   \\\\\n",
    "   y(1) = 1 + 4 \\ln{2}\n",
    "   \\\\\n",
    "   z(1) = \\eta\n",
    "   \\\\\n",
    "   y(2) = -1 + 3 \\ln{2}\n",
    " \\end{cases}\n",
    "\\end{equation*}\n",
    "$$\n",
    "\n",
    "Наша задача выбрать такое $\\eta$, при котором значение решения на конце отрезка удовлетвоярет условию."
   ]
  },
  {
   "cell_type": "markdown",
   "metadata": {},
   "source": [
    "#### Для конечно-разностного метода"
   ]
  },
  {
   "cell_type": "markdown",
   "metadata": {},
   "source": [
    "Выделим из дифференциального уравнения функции $p(x)$, $q(x)$ и $f(x)$, такие что: $y'' + p(x)y' + q(x)y = f(x)$:\n",
    "\n",
    "$$\n",
    "p(x) = 0,\\; q(x) = -\\displaystyle\\frac{2}{x^2 (x+1)},\\; f(x) = \\displaystyle\\frac{2 - 2x}{x^2 (x+1)}\n",
    "$$"
   ]
  },
  {
   "cell_type": "markdown",
   "metadata": {},
   "source": [
    "### <center> Вспомогательные функции </center>"
   ]
  },
  {
   "cell_type": "markdown",
   "metadata": {},
   "source": [
    "Импортируем бибилиотеки:"
   ]
  },
  {
   "cell_type": "code",
   "execution_count": 1,
   "metadata": {
    "scrolled": true
   },
   "outputs": [],
   "source": [
    "import matplotlib.pyplot as plt\n",
    "import math\n",
    "import sys\n",
    "import numpy as np\n",
    "from functools import reduce"
   ]
  },
  {
   "cell_type": "markdown",
   "metadata": {},
   "source": [
    "Функции $q(x), \\; p(x), \\; f(x)$:"
   ]
  },
  {
   "cell_type": "code",
   "execution_count": 2,
   "metadata": {},
   "outputs": [],
   "source": [
    "def q_x(x):\n",
    "    return -2 / (x*x*(x+1))\n",
    "\n",
    "def p_x(x):\n",
    "    return 0\n",
    "\n",
    "def f_x(x):\n",
    "    return (2 - 2*x) / (x*x*(x+1))"
   ]
  },
  {
   "cell_type": "markdown",
   "metadata": {},
   "source": [
    "Функция $ y = -1 + \\displaystyle\\frac{2 + 2 (x+1) \\ln{|x + 1|}}{x} $"
   ]
  },
  {
   "cell_type": "code",
   "execution_count": 3,
   "metadata": {
    "scrolled": true
   },
   "outputs": [],
   "source": [
    "def y_x(x):\n",
    "    return -1 + (2 + 2*(x + 1)*math.log(abs(x + 1))) / x"
   ]
  },
  {
   "cell_type": "markdown",
   "metadata": {},
   "source": [
    "Значение функции $f(x, y, z) = \\displaystyle\\frac{2 y - 2 x + 2}{x^2 (x+1)}$"
   ]
  },
  {
   "cell_type": "code",
   "execution_count": 4,
   "metadata": {
    "scrolled": true
   },
   "outputs": [],
   "source": [
    "def f_xyz(x, y, z):\n",
    "    return (2*y - 2*x + 2) / (x*x*(x+1))"
   ]
  },
  {
   "cell_type": "markdown",
   "metadata": {},
   "source": [
    "Функция, вычисляющая абсолютную погрешность $\\| y - \\overline{y} \\|$ решения $y = y(x)$ задачи Коши приближением $\\overline{y}$ в узловых точках:"
   ]
  },
  {
   "cell_type": "code",
   "execution_count": 5,
   "metadata": {
    "scrolled": true
   },
   "outputs": [],
   "source": [
    "def epsilon(x, y):\n",
    "    norm = 0.0\n",
    "    for i in range(len(x)):\n",
    "        norm += (y[i] - y_x(x[i]))**2\n",
    "    return norm**0.5"
   ]
  },
  {
   "cell_type": "markdown",
   "metadata": {},
   "source": [
    "Функция вычисления вектора $x$ узловых точек на основе границ отрезка $a, \\; b$ и длины шага $h$."
   ]
  },
  {
   "cell_type": "code",
   "execution_count": 6,
   "metadata": {},
   "outputs": [],
   "source": [
    "def compute_x(a, b, h):\n",
    "    return list(np.arange(a, b + h/2, h))"
   ]
  },
  {
   "cell_type": "markdown",
   "metadata": {},
   "source": [
    "Функция вычисляет многочлен Лагранжа $ L_n(x) = \\displaystyle\\sum\\limits_{i = 0}^n f_n \\displaystyle\\prod\\limits_{j = 0, j \\ne n}^n \\frac{(x - x_j)}{(x_n - x_j)} $:"
   ]
  },
  {
   "cell_type": "code",
   "execution_count": 7,
   "metadata": {},
   "outputs": [],
   "source": [
    "# comute order of chislitels\n",
    "# Multiply elems in order\n",
    "def Prod(items = None):\n",
    "    return reduce(lambda x, y: x*y, items)\n",
    "\n",
    "# Compute order of znamenatels\n",
    "def comp_order_znam(Xi):\n",
    "    ans = []\n",
    "    for item in Xi:\n",
    "        ans.append(list(map(lambda it: item - it, filter(lambda it: it != item, Xi))))\n",
    "    return map(lambda o: 1.0 / o, map(Prod, ans))\n",
    "\n",
    "# Compute coeefs\n",
    "def comp_coeffs(Xi, Yi):\n",
    "    return [m*k for m, k in zip(Yi, comp_order_znam(Xi))]\n",
    "\n",
    "def omega_order(x, Xi):\n",
    "    ans = []\n",
    "    for item in Xi:\n",
    "        ans.append(list(map(lambda it: x - it, filter(lambda it: it != item, Xi))))\n",
    "    return map(Prod, ans)\n",
    "\n",
    "def lagrange_func(Xi, Yi):\n",
    "    #compute coeefs\n",
    "    coeffs = comp_coeffs(Xi, Yi)\n",
    "    #return func\n",
    "    return lambda x: sum([k*m for k, m in zip(coeffs, omega_order(x, Xi))])"
   ]
  },
  {
   "cell_type": "markdown",
   "metadata": {},
   "source": [
    "Метод прогонкки решения трёхдиагональной системы уранений."
   ]
  },
  {
   "cell_type": "code",
   "execution_count": 8,
   "metadata": {},
   "outputs": [],
   "source": [
    "def race_method(A, b):\n",
    "    P = [-item[2] for item in A]\n",
    "    Q = [item for item in b]\n",
    "    \n",
    "    P[0] /= A[0][1]\n",
    "    Q[0] /= A[0][1]\n",
    "    \n",
    "    for i in range(1, len(b)):\n",
    "        z = (A[i][1] + A[i][0] * P[i-1])\n",
    "        P[i] /= z\n",
    "        Q[i] -= A[i][0] * Q[i-1]\n",
    "        Q[i] /= z\n",
    "    \n",
    "    x = [item for item in Q]\n",
    "    \n",
    "    for i in range(len(x) - 2, -1, -1):\n",
    "        x[i] += P[i] * x[i + 1]\n",
    "    \n",
    "    return x"
   ]
  },
  {
   "cell_type": "markdown",
   "metadata": {},
   "source": [
    "Метод Рунге-Кутты 4-го порядка приближенного решения задачи Коши."
   ]
  },
  {
   "cell_type": "code",
   "execution_count": 9,
   "metadata": {},
   "outputs": [],
   "source": [
    "def delta_4p(xk, yk, zk, h, f):\n",
    "    K1 = h * zk\n",
    "    L1 = h * f(xk, yk, zk)\n",
    "    \n",
    "    K2 = h * (zk + L1 / 2)\n",
    "    L2 = h * f(xk + h/2, yk + K1/2, zk + L1/2)\n",
    "    \n",
    "    K3 = h * (zk + L2 / 2)\n",
    "    L3 = h * f(xk + h/2, yk + K2/2, zk + L2/2)\n",
    "    \n",
    "    K4 = h * (zk + L3)\n",
    "    L4 = h * f(xk + h, yk + K3, zk + L3) \n",
    "    \n",
    "    return ((K1 + 2*K2 + 2*K3 + K4)/6, (L1 + 2*L2 + 2*L3 + L4)/6)\n",
    "\n",
    "def runge_kutta_4p(x, y0, z0, h, f = f_xyz):\n",
    "    y = [y0]\n",
    "    z = [z0]\n",
    "    for k in range(len(x) - 1):\n",
    "        delta = delta_4p(x[k], y[k], z[k], h, f)\n",
    "        y.append(y[k] + delta[0])\n",
    "        z.append(z[k] + delta[1])\n",
    "    return y"
   ]
  },
  {
   "cell_type": "markdown",
   "metadata": {},
   "source": [
    "### <center> Метод стрельбы </center>"
   ]
  },
  {
   "cell_type": "markdown",
   "metadata": {},
   "source": [
    "Обозначим $\\Phi(\\eta) = y(b, y_0, \\eta) - y(b)$, тогда иттерационная формула с конечным условием $\\Phi(\\eta_j) \\leq \\epsilon$, где $\\epsilon$ - заданная точность метода:\n",
    "\n",
    "$$\n",
    "\\eta_{j+2} = \\eta_{j+1} - \\Phi(\\eta_{j+1}) \\displaystyle\\frac{\\eta_{j+1} - \\eta_j}{\\Phi(\\eta_{j+1}) - \\Phi(\\eta_j)}\n",
    "$$"
   ]
  },
  {
   "cell_type": "code",
   "execution_count": 10,
   "metadata": {
    "scrolled": true
   },
   "outputs": [],
   "source": [
    "def next_step(F0, F1, nu0, nu1):\n",
    "    return nu1 - F1 * (nu1 - nu0) / (F1 - F0)"
   ]
  },
  {
   "cell_type": "markdown",
   "metadata": {},
   "source": [
    "Найдем $\\eta$, такое что решение *задачи Коши* с шагом $h$ на правой границе отрезка $[a, b]$ соответствует краевому условию $y(b)$, где решение *задачи Коши* будем искать приближенно *методом Рунге-Кутты 4 порядка*. Поиск параметра $\\eta$ будем производить иттерационно."
   ]
  },
  {
   "cell_type": "code",
   "execution_count": 11,
   "metadata": {},
   "outputs": [],
   "source": [
    "def shoot_method(x, y0, y1, h, f = f_xyz, e = 0.00001):\n",
    "    nu_last = 1\n",
    "    nu_now = 0.8\n",
    "    y_last = runge_kutta_4p(x, y0, nu_last, h, f)\n",
    "    y_now = runge_kutta_4p(x, y0, nu_now, h, f)\n",
    "    F_last = y_last[-1] - y1\n",
    "    F_now = y_now[-1] - y1\n",
    "    while abs(F_now) > e:\n",
    "        nu_last, nu_now = nu_now, next_step(F_last, F_now, nu_last, nu_now)\n",
    "        y_last, y_now = y_now, runge_kutta_4p(x, y0, nu_now, h, f)\n",
    "        F_last, F_now = F_now, y_now[-1] - y1\n",
    "    return y_now"
   ]
  },
  {
   "cell_type": "markdown",
   "metadata": {},
   "source": [
    "### <center> Конечно-разностный метод </center>"
   ]
  },
  {
   "cell_type": "markdown",
   "metadata": {},
   "source": [
    "#### Краевые условия 1-го рода"
   ]
  },
  {
   "cell_type": "markdown",
   "metadata": {},
   "source": [
    "Система для решения конечно-разностного уравнения с краевыми условиями 1-го рода для значений $y_i: \\; 0 < i < N$ в узлах $x_i$, где $N$ - количество узлов:\n",
    "\n",
    "$$\n",
    "\\begin{equation*}\n",
    " \\begin{cases}\n",
    "   (-2 + h^2 q(x_1)) y_1 + \\left(1 + \\displaystyle\\frac{p(x_1) h}{2} \\right)y_2 = h^2 f(x_1) - y_0\\left(1 - \\displaystyle\\frac{p(x_1)h}{2}\\right)\n",
    "\\\\\n",
    "   ...\n",
    "\\\\\n",
    "   y_{k-1} \\left(1 - \\displaystyle\\frac{p(x_k)h}{2} \\right) + (-2 + h^2 q(x_k)) y_k + \\left(1 + \\displaystyle\\frac{p(x_k) h}{2} \\right)y_{k+1} = h^2 f(x_k)\n",
    "   \\\\\n",
    "   ...\n",
    "   \\\\\n",
    "   y_{N-2} \\left(1 - \\displaystyle\\frac{p(x_{N-1})h}{2} \\right) + (-2 + h^2 q(x_{N-1})) y_{N-1} = h^2 f(x_{N-1}) - y_N \\left(1 + \\displaystyle\\frac{p(x_{N-1})h}{2}\\right)\n",
    " \\end{cases}\n",
    "\\end{equation*}\n",
    "$$\n",
    "\n",
    "Здесь $f_i = f(x_i, y_i, z_i)$\n",
    "\n",
    "Значения $y_0 = y(1)$ и $y_N = y(N)$ заданы в условии."
   ]
  },
  {
   "cell_type": "code",
   "execution_count": 12,
   "metadata": {
    "scrolled": true
   },
   "outputs": [],
   "source": [
    "def compute_A(h, p, q, x):\n",
    "    A = [[1 - (p(x[i]))/2, (-2 + h*h*q(x[i])), 1 + (p(x[i])*h)/2] for i in range(1, len(x[:-1]))]\n",
    "    A[0][0] = 0\n",
    "    A[-1][-1] = 0\n",
    "    return A\n",
    "\n",
    "def compute_b(h, p, f, x, y0, y1):\n",
    "    b = [h*h*f(x[i]) for i in range(1, len(x[:-1]))]\n",
    "    b[0] -= y0*(1 - p(x[1])*h/2)\n",
    "    b[-1] -= y1*(1 + p(x[-2])*h/2)\n",
    "    return b"
   ]
  },
  {
   "cell_type": "code",
   "execution_count": 13,
   "metadata": {},
   "outputs": [],
   "source": [
    "def difference_method(x, y0, y1, h, p = p_x, q = q_x, f = f_x):\n",
    "    A = compute_A(h, p, q, x)\n",
    "    b = compute_b(h, p, f, x, y0, y1)\n",
    "    y = [y0] + race_method(A, b) + [y1]\n",
    "    return y"
   ]
  },
  {
   "cell_type": "markdown",
   "metadata": {},
   "source": [
    "### <center> Метод Рунге-Ромберга-Ричардсона </center>"
   ]
  },
  {
   "cell_type": "markdown",
   "metadata": {},
   "source": [
    "В случае приближённого решения $y_1$ и $y_2$ с постоянными шагами $h_1$ и $h_2$ соответственно и порядком точности $p$, где $h_2 = 2h_1 $ формула приближенного вычисления погрешности вычисления порядка точности $p + 1 \\;$ $ R^h = \\displaystyle\\frac{\\| y_1 - y_2 \\|}{2^p - 1} \\; $ реализуется:"
   ]
  },
  {
   "cell_type": "code",
   "execution_count": 14,
   "metadata": {
    "scrolled": true
   },
   "outputs": [],
   "source": [
    "def runge_romberg_rich_method(y1, y2, p):\n",
    "    norm = 0.0\n",
    "    for i in range(len(y2)):\n",
    "        norm += (y1[i*2] - y2[i])**2\n",
    "    return (norm**0.5) / (2**p - 1)"
   ]
  },
  {
   "cell_type": "markdown",
   "metadata": {},
   "source": [
    "### <center> Демонстрация работы </center>"
   ]
  },
  {
   "cell_type": "markdown",
   "metadata": {},
   "source": [
    "Начальные значения задаем в коде:"
   ]
  },
  {
   "cell_type": "code",
   "execution_count": 15,
   "metadata": {
    "scrolled": true
   },
   "outputs": [],
   "source": [
    "h = 0.2\n",
    "a = 1\n",
    "b = 2\n",
    "y0 = 1 + 4 * math.log(2)\n",
    "y1 = 3 * math.log(3)"
   ]
  },
  {
   "cell_type": "markdown",
   "metadata": {},
   "source": [
    "Значения узловых точек, в которых будут приближаться решения задачи Коши:"
   ]
  },
  {
   "cell_type": "code",
   "execution_count": 16,
   "metadata": {},
   "outputs": [],
   "source": [
    "x = compute_x(a, b, h)\n",
    "xr = compute_x(a, b, h/2)"
   ]
  },
  {
   "cell_type": "markdown",
   "metadata": {},
   "source": [
    "Абсолютная погрешность *метода стрельбы* с точностью $\\epsilon = 0.00001$:"
   ]
  },
  {
   "cell_type": "code",
   "execution_count": 17,
   "metadata": {
    "scrolled": true
   },
   "outputs": [
    {
     "name": "stdout",
     "output_type": "stream",
     "text": [
      "Погрешность вычисления y: 5.7202524815136525e-05\n"
     ]
    }
   ],
   "source": [
    "y = shoot_method(x, y0, y1, h)\n",
    "print(\"Погрешность вычисления y:\", epsilon(x, y))"
   ]
  },
  {
   "cell_type": "markdown",
   "metadata": {},
   "source": [
    "Погрешность *метода стрельбы* с точностью $\\epsilon = 0.00001$ с помощью *метода Рунге-Ромберга-Ричардсона*:"
   ]
  },
  {
   "cell_type": "code",
   "execution_count": 18,
   "metadata": {
    "scrolled": true
   },
   "outputs": [
    {
     "name": "stdout",
     "output_type": "stream",
     "text": [
      "Погрешность вычисления y: 3.560776535488534e-06\n"
     ]
    }
   ],
   "source": [
    "p = 4\n",
    "yr = shoot_method(xr, y0, y1, h/2)\n",
    "print(\"Погрешность вычисления y:\", runge_romberg_rich_method(yr, y, p))"
   ]
  },
  {
   "cell_type": "markdown",
   "metadata": {},
   "source": [
    "Абсолютная погрешность *конечно-разностного метода* с условиями первого рода:"
   ]
  },
  {
   "cell_type": "code",
   "execution_count": 19,
   "metadata": {
    "scrolled": true
   },
   "outputs": [
    {
     "name": "stdout",
     "output_type": "stream",
     "text": [
      "Погрешность вычисления y: 0.005618555966076985\n"
     ]
    }
   ],
   "source": [
    "y = difference_method(x, y0, y1, h)\n",
    "print(\"Погрешность вычисления y:\", epsilon(x, y))"
   ]
  },
  {
   "cell_type": "markdown",
   "metadata": {},
   "source": [
    "Погрешность *конечно-разностного метода* с условиями первого рода с помощью *метода Рунге-Ромберга-Ричардсона:*"
   ]
  },
  {
   "cell_type": "code",
   "execution_count": 20,
   "metadata": {},
   "outputs": [
    {
     "name": "stdout",
     "output_type": "stream",
     "text": [
      "Погрешность вычисления y: 0.001391897644023291\n"
     ]
    }
   ],
   "source": [
    "p = 2\n",
    "yr = difference_method(xr, y0, y1, h/2)\n",
    "print(\"Погрешность вычисления y:\", runge_romberg_rich_method(yr, y, p))"
   ]
  },
  {
   "cell_type": "markdown",
   "metadata": {},
   "source": [
    "### <center> Графическое отображение </center>"
   ]
  },
  {
   "cell_type": "code",
   "execution_count": 22,
   "metadata": {
    "scrolled": false
   },
   "outputs": [
    {
     "data": {
      "image/png": "[encoded data removed]",
      "text/plain": [
       "<Figure size 1296x720 with 1 Axes>"
      ]
     },
     "metadata": {
      "needs_background": "light"
     },
     "output_type": "display_data"
    }
   ],
   "source": [
    "h = 0.25\n",
    "a = 1\n",
    "b = 2\n",
    "y0 = 1 + 4 * math.log(2)\n",
    "y1 = 3 * math.log(3)\n",
    "\n",
    "xp = compute_x(a, b, h)\n",
    "xi = compute_x(a, b, 0.0005)\n",
    "\n",
    "yp1 = shoot_method(xp, y0, y1, h)\n",
    "Ly = lagrange_func(xp, yp1)\n",
    "ys = list(map(Ly, xi))\n",
    "\n",
    "yp2 = difference_method(xp, y0, y1, h)\n",
    "Ly = lagrange_func(xp, yp2)\n",
    "yd = list(map(Ly, xi))\n",
    "\n",
    "yt = list(map(y_x, xi))\n",
    "\n",
    "\n",
    "\n",
    "\n",
    "fig = plt.figure(figsize=(18, 10))\n",
    "ax1 = fig.add_subplot(111)\n",
    "\n",
    "ax1.plot([a, b], [y0, y1], 'o')\n",
    "\n",
    "line1, = ax1.plot(xi, ys, 'r')\n",
    "line2, = ax1.plot(xi, yd, 'b')\n",
    "line3, = ax1.plot(xi, yt, 'y')\n",
    "\n",
    "\n",
    "\n",
    "\n",
    "\n",
    "ax1.set_xlabel('x')\n",
    "ax1.set_ylabel('y')\n",
    "\n",
    "\n",
    "# set title, plot limits, etc\n",
    "ax1.set_title('Приближения решения краевой задачи различными методами')\n",
    "ax1.set_xlim(0.97, 2.03)\n",
    "\n",
    "\n",
    "\n",
    "ax1.legend((line1, line2, line3), \n",
    "           (\"Метод стрельбы\", \"Конечно-разностный метод\", \"Точное решение\"))\n",
    "ax1.grid()\n",
    "\n",
    "\n",
    "plt.show()"
   ]
  },
  {
   "cell_type": "markdown",
   "metadata": {},
   "source": [
    "###### <center>Сделано Бронниковым Максимом</center>\n",
    "###### <center>20.04.2020</center>"
   ]
  }
 ],
 "metadata": {
  "kernelspec": {
   "display_name": "Python 3",
   "language": "python",
   "name": "python3"
  },
  "language_info": {
   "codemirror_mode": {
    "name": "ipython",
    "version": 3
   },
   "file_extension": ".py",
   "mimetype": "text/x-python",
   "name": "python",
   "nbconvert_exporter": "python",
   "pygments_lexer": "ipython3",
   "version": "3.7.6"
  }
 },
 "nbformat": 4,
 "nbformat_minor": 4
}

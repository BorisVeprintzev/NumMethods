{
 "cells": [
  {
   "cell_type": "markdown",
   "metadata": {},
   "source": [
    "#### <left>Бронников Максим Андреевич</left>"
   ]
  },
  {
   "cell_type": "markdown",
   "metadata": {},
   "source": [
    "*M8О-307Б, №4 по списку*"
   ]
  },
  {
   "cell_type": "markdown",
   "metadata": {},
   "source": [
    "#   <center>Лабораторная работа №3</center>\n",
    "### <center> Задание №3 </center>"
   ]
  },
  {
   "cell_type": "markdown",
   "metadata": {},
   "source": [
    "**Для таблично заданной функции путем решения нормальной системы МНК найти приближающие многочлены степени $n$. Для каждого из приближающих многочленов вычислить сумму квадратов ошибок. Построить графики приближаемой функции и приближающих многочленов.**"
   ]
  },
  {
   "cell_type": "markdown",
   "metadata": {},
   "source": [
    "### <center> Вариант №4 </center>"
   ]
  },
  {
   "cell_type": "markdown",
   "metadata": {},
   "source": [
    "$ x_i = 1.0, \\; 1.9, \\; 2.8, \\; 3.7, \\; 4.6, \\; 5.5  $\n",
    "\n",
    "$ y_i = 2.4142, \\; 1.0818, \\; 0.50953, \\; 0.11836, \\; -0.24008, \\; -0.66818 $\n",
    "\n",
    "а) $ n = 1 $\n",
    "\n",
    "б) $ n = 2 $"
   ]
  },
  {
   "cell_type": "markdown",
   "metadata": {},
   "source": [
    "## <center> Решение: </center>"
   ]
  },
  {
   "cell_type": "markdown",
   "metadata": {},
   "source": [
    "### <center> Вспомогательные функции </center>"
   ]
  },
  {
   "cell_type": "markdown",
   "metadata": {},
   "source": [
    "Импортируем бибилиотеки:"
   ]
  },
  {
   "cell_type": "code",
   "execution_count": 1,
   "metadata": {},
   "outputs": [],
   "source": [
    "import matplotlib.pyplot as plt\n",
    "import math\n",
    "import sys\n",
    "import numpy as np\n",
    "from functools import reduce"
   ]
  },
  {
   "cell_type": "markdown",
   "metadata": {},
   "source": [
    "*Метод Гаусса* для решения СЛАУ (считаем что $a_{ii} \\ne 0, \\; \\forall i: \\; 1 \\leq i \\leq n$):\n",
    "\n",
    "$$\n",
    "\\begin{equation*}\n",
    " \\begin{cases}\n",
    "   \\sum\\limits_{i = 0}^{n} a_{0i} x_i = b_0\n",
    "   \\\\\n",
    "   ...\n",
    "   \\\\\n",
    "   \\sum\\limits_{i = 0}^{n} a_{ki} x_i = b_k\n",
    "   \\\\\n",
    "   ...\n",
    "   \\\\\n",
    "   \\sum\\limits_{i = 0}^{n} a_{ni} x_i = b_n\n",
    " \\end{cases}\n",
    "\\end{equation*}\n",
    "$$"
   ]
  },
  {
   "cell_type": "code",
   "execution_count": 2,
   "metadata": {},
   "outputs": [],
   "source": [
    "def lu_solve(L, U, b):\n",
    "    x = list(b)\n",
    "    for i in range(1, len(x)):\n",
    "        for j in range(i):\n",
    "            x[i] -= L[i][j]*x[j]\n",
    "\n",
    "    for i in range(len(x) - 1, -1, -1):\n",
    "        for j in range(i + 1, len(x)):\n",
    "            x[i] -= U[i][j]*x[j]\n",
    "        x[i] /= U[i][i]\n",
    "    return x\n",
    "        \n",
    "\n",
    "\n",
    "\n",
    "def gauss_solution(A, b):\n",
    "    L = [[0.0 for _ in l] for l in A]\n",
    "    U = [list(l) for l in A]\n",
    "    for j in range(len(A)):\n",
    "        L[j][j] = 1.0\n",
    "        for i in range(j + 1, len(A)):\n",
    "            L[i][j] = U[i][j] / U[j][j]\n",
    "            for k in range(j, len(A)):\n",
    "                U[i][k] -= U[j][k] * L[i][j]\n",
    "    return lu_solve(L, U, b)"
   ]
  },
  {
   "cell_type": "markdown",
   "metadata": {},
   "source": [
    "Функция вычисления суммы квадратов ошибок вычислений $ E = \\sum\\limits_{j = 0}^{N} (F_n(x_j) - y_j)^2 $ приближенной функции $ F_n $ степени $ n $ в $ N $ заданных точках $ (x_j, y_j) $:"
   ]
  },
  {
   "cell_type": "code",
   "execution_count": 3,
   "metadata": {},
   "outputs": [],
   "source": [
    "def error_value(F, X, Y):\n",
    "    return reduce(lambda x, y: x + y, map(lambda v: (F(v[0]) - v[1])**2, zip(X, Y)))"
   ]
  },
  {
   "cell_type": "markdown",
   "metadata": {},
   "source": [
    "### <center> Метод Наименьших Квадратов </center>"
   ]
  },
  {
   "cell_type": "markdown",
   "metadata": {},
   "source": [
    "Коеффиценты $a_i, \\; \\forall i: \\; 0 \\leq i < n$ находятся из решения системы из $n + 1$ уравнения: \n",
    "\n",
    "$$\n",
    "\\begin{equation*}\n",
    " \\begin{cases}\n",
    "   \\sum\\limits_{i = 0}^{n} a_i \\sum\\limits^{N}_{j = 0} x^i = \\sum\\limits_{j = 0}^{N} y_j\n",
    "   \\\\\n",
    "   ...\n",
    "   \\\\\n",
    "   \\sum\\limits_{i = 0}^{n} a_i \\sum\\limits^{N}_{j = 0} x^{i+k} = \\sum\\limits_{j = 0}^{N} y_j x_{j}^{k}\n",
    "   \\\\\n",
    "   ...\n",
    "   \\\\\n",
    "   \\sum\\limits_{i = 0}^{n} a_i \\sum\\limits^{N}_{j = 0} x^{i+n} = \\sum\\limits_{j = 0}^{N} y_j x_{j}^{n}\n",
    " \\end{cases}\n",
    "\\end{equation*}\n",
    "$$"
   ]
  },
  {
   "cell_type": "code",
   "execution_count": 4,
   "metadata": {},
   "outputs": [],
   "source": [
    "def count_a(X, Y, n):\n",
    "    A = []\n",
    "    b = []\n",
    "    N = len(X)\n",
    "    for k in range(n + 1):\n",
    "        A.append([sum(map(lambda x: x**(i + k), X)) for i in range(n + 1)])\n",
    "        b.append(sum(map(lambda x: x[0] * x[1]**k, zip(Y, X))))\n",
    "    return gauss_solution(A, b)"
   ]
  },
  {
   "cell_type": "markdown",
   "metadata": {},
   "source": [
    "Функция вычисляет приближенный многочлен $ F_n(x) = \\displaystyle\\sum\\limits_{i = 0}^n a_i x^i $ по Методу Наименьших Квадратов проводя препроцессинг коеффицентов $ a_i $ путем минимизации функции ошибки $ E = \\sum\\limits_{j = 0}^{N} (F_n(x_j) - y_j)^2 $:"
   ]
  },
  {
   "cell_type": "code",
   "execution_count": 5,
   "metadata": {},
   "outputs": [],
   "source": [
    "def MNK_func(X, Y, n):\n",
    "    a = count_a(X, Y, n)\n",
    "    #print(\"Коэффицеты а приближающего многочлена:\", a)\n",
    "    return lambda x: sum([a[i] * x**i for i in range(n + 1)])"
   ]
  },
  {
   "cell_type": "markdown",
   "metadata": {},
   "source": [
    "### <center> *Демонстрация работы* </center>"
   ]
  },
  {
   "cell_type": "markdown",
   "metadata": {},
   "source": [
    "**а)** Начальные значения задаем в коде:"
   ]
  },
  {
   "cell_type": "code",
   "execution_count": 6,
   "metadata": {},
   "outputs": [],
   "source": [
    "X1 = [1.0, 1.9, 2.8, 3.7, 4.6, 5.5]\n",
    "Y1 = [2.4142, 1.0818, 0.50953, 0.11836, -0.24008, -0.66818]\n",
    "n = 1\n",
    "#Xi = [0.0, 1.7, 3.4, 5.1, 6.8, 8.5]\n",
    "#Yi = [0.0, 1.3038, 1.8439, 2.2583, 2.6077, 2.9155]\n",
    "#n = 2"
   ]
  },
  {
   "cell_type": "markdown",
   "metadata": {},
   "source": [
    "*Ошибка МНК:*"
   ]
  },
  {
   "cell_type": "code",
   "execution_count": 7,
   "metadata": {},
   "outputs": [
    {
     "name": "stdout",
     "output_type": "stream",
     "text": [
      "Значение квадрата ошибки: 0.4701221112819048\n"
     ]
    }
   ],
   "source": [
    "F1 = MNK_func(X1, Y1, n)\n",
    "\n",
    "print(\"Значение квадрата ошибки:\", error_value(F1, X1, Y1))"
   ]
  },
  {
   "cell_type": "markdown",
   "metadata": {},
   "source": [
    "*Графическое отображение:*"
   ]
  },
  {
   "cell_type": "code",
   "execution_count": 8,
   "metadata": {},
   "outputs": [
    {
     "data": {
      "image/png": "[encoded data removed]",
      "text/plain": [
       "<Figure size 1224x576 with 1 Axes>"
      ]
     },
     "metadata": {
      "needs_background": "light"
     },
     "output_type": "display_data"
    }
   ],
   "source": [
    "x = np.arange(0.9, 6.0, 0.005)\n",
    "\n",
    "y = list(map(F1, x)) \n",
    "\n",
    "fig = plt.figure(figsize=(17, 8))\n",
    "ax1 = fig.add_subplot(111)\n",
    "\n",
    "line1, = ax1.plot(x, y, 'y', label=\"f(x)\")\n",
    "ax1.set_xlabel('x')\n",
    "ax1.set_ylabel('y', color='g')\n",
    "\n",
    "ax1.plot(list(X1), list(Y1), 'o', label = \"Points\")\n",
    "\n",
    "# set title, plot limits, etc\n",
    "plt.title('Приближенный многочлен 1-ой степени методом МНК')\n",
    "plt.xlim(0.9, 6.0)\n",
    "\n",
    "\n",
    "# add a legend, and position it on the upper right\n",
    "plt.legend((line1,), (\"Fn(x)\",))\n",
    "\n",
    "plt.show()"
   ]
  },
  {
   "cell_type": "markdown",
   "metadata": {},
   "source": [
    "**б)** Начальные данные считаем из файла:"
   ]
  },
  {
   "cell_type": "code",
   "execution_count": 9,
   "metadata": {},
   "outputs": [],
   "source": [
    "X2 = []\n",
    "Y2 = []\n",
    "with open(\"data/d3.txt\", \"r\") as file:\n",
    "    X2 = list(map(float, file.readline().split()))\n",
    "    Y2 = list(map(float, file.readline().split()))\n",
    "    n = int(file.readline())"
   ]
  },
  {
   "cell_type": "markdown",
   "metadata": {},
   "source": [
    "*Ошибка МНК:*"
   ]
  },
  {
   "cell_type": "code",
   "execution_count": 10,
   "metadata": {},
   "outputs": [
    {
     "name": "stdout",
     "output_type": "stream",
     "text": [
      "Значение квадрата ошибки: 0.12595314327714296\n"
     ]
    }
   ],
   "source": [
    "F2 = MNK_func(X2, Y2, n)\n",
    "\n",
    "print(\"Значение квадрата ошибки:\", error_value(F2, X2, Y2))"
   ]
  },
  {
   "cell_type": "markdown",
   "metadata": {},
   "source": [
    "*Графическое отображение:*"
   ]
  },
  {
   "cell_type": "code",
   "execution_count": 11,
   "metadata": {},
   "outputs": [
    {
     "data": {
      "image/png": "[encoded data removed]",
      "text/plain": [
       "<Figure size 1224x576 with 1 Axes>"
      ]
     },
     "metadata": {
      "needs_background": "light"
     },
     "output_type": "display_data"
    }
   ],
   "source": [
    "x = np.arange(0.9, 6.0, 0.005)\n",
    "\n",
    "y = list(map(F2, x)) \n",
    "\n",
    "fig = plt.figure(figsize=(17, 8))\n",
    "ax1 = fig.add_subplot(111)\n",
    "\n",
    "line1, = ax1.plot(x, y, 'b', label=\"f(x)\")\n",
    "ax1.set_xlabel('x')\n",
    "ax1.set_ylabel('y', color='g')\n",
    "\n",
    "ax1.plot(list(X2), list(Y2), 'o', label = \"Points\")\n",
    "\n",
    "# set title, plot limits, etc\n",
    "plt.title('Приближенный многочлен 2-ой степени методом МНК')\n",
    "plt.xlim(0.9, 6.0)\n",
    "\n",
    "\n",
    "# add a legend, and position it on the upper right\n",
    "plt.legend((line1,), (\"Fn(x)\",))\n",
    "\n",
    "plt.show()"
   ]
  },
  {
   "cell_type": "markdown",
   "metadata": {},
   "source": [
    "###### <center>Сделано Бронниковым Максимом</center>\n",
    "###### <center>06.04.2020</center>"
   ]
  }
 ],
 "metadata": {
  "kernelspec": {
   "display_name": "Python 3",
   "language": "python",
   "name": "python3"
  },
  "language_info": {
   "codemirror_mode": {
    "name": "ipython",
    "version": 3
   },
   "file_extension": ".py",
   "mimetype": "text/x-python",
   "name": "python",
   "nbconvert_exporter": "python",
   "pygments_lexer": "ipython3",
   "version": "3.7.6"
  }
 },
 "nbformat": 4,
 "nbformat_minor": 4
}

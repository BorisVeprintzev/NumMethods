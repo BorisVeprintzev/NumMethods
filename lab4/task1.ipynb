{
 "cells": [
  {
   "cell_type": "markdown",
   "metadata": {},
   "source": [
    "#### <left>Бронников Максим Андреевич</left>"
   ]
  },
  {
   "cell_type": "markdown",
   "metadata": {},
   "source": [
    "*M8О-307Б, №4 по списку*"
   ]
  },
  {
   "cell_type": "markdown",
   "metadata": {},
   "source": [
    "#   <center>Лабораторная работа №4</center>\n",
    "### <center> Задание №1 </center>"
   ]
  },
  {
   "cell_type": "markdown",
   "metadata": {},
   "source": [
    "**Реализовать методы Эйлера, Рунге-Кутты и Адамса 4-го порядка в виде программ, задавая в качестве входных данных шаг сетки $h$. С использованием разработанного программного обеспечения решить *задачу Коши* для ОДУ 2-го порядка на указанном отрезке.**\n",
    "\n",
    "**Оценить погрешность численного решения с использованием метода Рунге – Ромберга и путем сравнения с точным решением.**"
   ]
  },
  {
   "cell_type": "markdown",
   "metadata": {},
   "source": [
    "### <center> Вариант №4 </center>"
   ]
  },
  {
   "cell_type": "markdown",
   "metadata": {},
   "source": [
    "**Задача Коши:** \n",
    "\n",
    "$$\n",
    "\\begin{equation*}\n",
    " \\begin{cases}\n",
    "   x^{2}y'' - x(x^2 - 1)y' - (x^{2} + 1)y = 0\n",
    "   \\\\\n",
    "   y(1) = 1 + e^{\\frac{1}{2}}\n",
    "   \\\\\n",
    "   y'(1) = 2e^{\\frac{1}{2}}  - 1 \n",
    " \\end{cases}\n",
    "\\end{equation*}\n",
    "$$\n",
    "\n",
    "Для $x \\in [1, 2]$ с шагом $h = 0.1$"
   ]
  },
  {
   "cell_type": "markdown",
   "metadata": {},
   "source": [
    "<span style=\"color:red\">**Внимание:** В задании неверно посчитана 2-ая производная. Далее будет использовано правильное значение $y'(1) = -1$ </span>"
   ]
  },
  {
   "cell_type": "markdown",
   "metadata": {},
   "source": [
    "**Точное решение:**\n",
    "\n",
    "$$ y = \\displaystyle\\frac{1 + e^{\\frac{x^2}{2}}}{x} $$"
   ]
  },
  {
   "cell_type": "markdown",
   "metadata": {},
   "source": [
    "## <center> Решение: </center>"
   ]
  },
  {
   "cell_type": "markdown",
   "metadata": {},
   "source": [
    "### <center> Преобразование функции </center>"
   ]
  },
  {
   "cell_type": "markdown",
   "metadata": {},
   "source": [
    "Сведём исходную *задачу Коши* 2-го порядка к системе 1-го порядка:\n",
    "\n",
    "$$\n",
    "\\begin{equation*}\n",
    " \\begin{cases}\n",
    "   y' = z\n",
    "   \\\\\n",
    "   z' = \\displaystyle\\frac{x(x^2 - 1)z + (x^{2} + 1)y}{x^2}\n",
    "   \\\\\n",
    "   y(1) = 1 + e^{\\frac{1}{2}}\n",
    "   \\\\\n",
    "   z(1) = 2e^{\\frac{1}{2}}  - 1\n",
    " \\end{cases}\n",
    "\\end{equation*}\n",
    "$$"
   ]
  },
  {
   "cell_type": "markdown",
   "metadata": {},
   "source": [
    "### <center> Вспомогательные функции </center>"
   ]
  },
  {
   "cell_type": "markdown",
   "metadata": {},
   "source": [
    "Импортируем бибилиотеки:"
   ]
  },
  {
   "cell_type": "code",
   "execution_count": 1,
   "metadata": {
    "scrolled": true
   },
   "outputs": [],
   "source": [
    "import matplotlib.pyplot as plt\n",
    "import math\n",
    "import sys\n",
    "import numpy as np\n",
    "from functools import reduce"
   ]
  },
  {
   "cell_type": "markdown",
   "metadata": {},
   "source": [
    "Функция $ y = \\displaystyle\\frac{1 + e^{\\frac{x^2}{2}}}{x} $"
   ]
  },
  {
   "cell_type": "code",
   "execution_count": 2,
   "metadata": {
    "scrolled": true
   },
   "outputs": [],
   "source": [
    "def y_x(x):\n",
    "    return (math.exp(x*x / 2) + 1) / x"
   ]
  },
  {
   "cell_type": "markdown",
   "metadata": {},
   "source": [
    "Функция $y' = e^{\\frac{x^2}{2}} - \\displaystyle\\frac{e^{\\frac{x^2}{2}} + 1}{x^2}$"
   ]
  },
  {
   "cell_type": "code",
   "execution_count": 3,
   "metadata": {},
   "outputs": [],
   "source": [
    "def dy_dx_x(x):\n",
    "        return math.exp(x*x / 2) - y_x(x)/x"
   ]
  },
  {
   "cell_type": "markdown",
   "metadata": {},
   "source": [
    "Значение функции $f(x, y, z) = \\displaystyle\\frac{x(x^2 - 1)z + (x^{2} + 1)y}{x^2}$"
   ]
  },
  {
   "cell_type": "code",
   "execution_count": 4,
   "metadata": {
    "scrolled": true
   },
   "outputs": [],
   "source": [
    "def f_xyz(x, y, z):\n",
    "    return (x*(x*x - 1)*z + (x*x + 1)*y) / (x*x)"
   ]
  },
  {
   "cell_type": "markdown",
   "metadata": {},
   "source": [
    "Функция, вычисляющая абсолютную погрешность $\\| y - \\overline{y} \\|$ решения $y = y(x)$ задачи Коши приближением $\\overline{y}$ в узловых точках:"
   ]
  },
  {
   "cell_type": "code",
   "execution_count": 5,
   "metadata": {
    "scrolled": true
   },
   "outputs": [],
   "source": [
    "def epsilon(x, y):\n",
    "    norm = 0.0\n",
    "    for i in range(len(x)):\n",
    "        norm += (y[i] - y_x(x[i]))**2\n",
    "    return norm**0.5"
   ]
  },
  {
   "cell_type": "markdown",
   "metadata": {},
   "source": [
    "Функция, вычисляющая абсолютную погрешность $\\| y' - \\overline{y'} \\|$ вычисления первой производной $y' = y'(x)$ приближением $\\overline{y'}$ в узловых точках:"
   ]
  },
  {
   "cell_type": "code",
   "execution_count": 6,
   "metadata": {},
   "outputs": [],
   "source": [
    "def d_epsilon(x, y):\n",
    "    norm = 0.0\n",
    "    for i in range(len(x)):\n",
    "        norm += (y[i] - dy_dx_x(x[i]))**2\n",
    "    return norm**0.5"
   ]
  },
  {
   "cell_type": "markdown",
   "metadata": {},
   "source": [
    "Функция вычисления вектора $x$ узловых точек на основе границ отрезка $a, \\; b$ и длины шага $h$."
   ]
  },
  {
   "cell_type": "code",
   "execution_count": 7,
   "metadata": {},
   "outputs": [],
   "source": [
    "def compute_x(a, b, h):\n",
    "    return list(np.arange(a, b+h, h))"
   ]
  },
  {
   "cell_type": "markdown",
   "metadata": {},
   "source": [
    "Функция вычисляет многочлен Лагранжа $ L_n(x) = \\displaystyle\\sum\\limits_{i = 0}^n f_n \\displaystyle\\prod\\limits_{j = 0, j \\ne n}^n \\frac{(x - x_j)}{(x_n - x_j)} $:"
   ]
  },
  {
   "cell_type": "code",
   "execution_count": 8,
   "metadata": {},
   "outputs": [],
   "source": [
    "# comute order of chislitels\n",
    "# Multiply elems in order\n",
    "def Prod(items = None):\n",
    "    return reduce(lambda x, y: x*y, items)\n",
    "\n",
    "# Compute order of znamenatels\n",
    "def comp_order_znam(Xi):\n",
    "    ans = []\n",
    "    for item in Xi:\n",
    "        ans.append(list(map(lambda it: item - it, filter(lambda it: it != item, Xi))))\n",
    "    return map(lambda o: 1.0 / o, map(Prod, ans))\n",
    "\n",
    "# Compute coeefs\n",
    "def comp_coeffs(Xi, Yi):\n",
    "    return [m*k for m, k in zip(Yi, comp_order_znam(Xi))]\n",
    "\n",
    "def omega_order(x, Xi):\n",
    "    ans = []\n",
    "    for item in Xi:\n",
    "        ans.append(list(map(lambda it: x - it, filter(lambda it: it != item, Xi))))\n",
    "    return map(Prod, ans)\n",
    "\n",
    "def lagrange_func(Xi, Yi):\n",
    "    #compute coeefs\n",
    "    coeffs = comp_coeffs(Xi, Yi)\n",
    "    #return func\n",
    "    return lambda x: sum([k*m for k, m in zip(coeffs, omega_order(x, Xi))])"
   ]
  },
  {
   "cell_type": "markdown",
   "metadata": {},
   "source": [
    "### <center> Методы Эйлера </center>"
   ]
  },
  {
   "cell_type": "markdown",
   "metadata": {},
   "source": [
    "#### Явный метод Эйлера"
   ]
  },
  {
   "cell_type": "markdown",
   "metadata": {},
   "source": [
    "Вычисляются приближенные значения решения уравнения в $N$ узловых точках $(x_k, y_k), \\; \\forall k: \\; 1 \\leq k \\leq N$ по иттерационной формуле: \n",
    "\n",
    "$$\n",
    "\\begin{equation*}\n",
    " \\begin{cases}\n",
    "   y_k = y_{k-1} + hz_{k-1}\n",
    "   \\\\\n",
    "   z_k = z_{k-1} + hf(x_{k-1}, y_{k-1}, z_{k-1})\n",
    "   \\\\\n",
    "   x_k = x_{k-1} + h\n",
    " \\end{cases}\n",
    "\\end{equation*}\n",
    "$$\n",
    "\n",
    "Значения $y_0 = y(1)$ и $z_0 = z(1)$ заданы в условии."
   ]
  },
  {
   "cell_type": "code",
   "execution_count": 9,
   "metadata": {
    "scrolled": true
   },
   "outputs": [],
   "source": [
    "def explict_eiler(x, y0, z0, h, f = f_xyz):\n",
    "    y = [y0]\n",
    "    z = [z0]\n",
    "    \n",
    "    for k in range(len(x) - 1):\n",
    "        y.append(y[k] + h*z[k])\n",
    "        z.append(z[k] + h*f(x[k], y[k], z[k]))\n",
    "    return y, z"
   ]
  },
  {
   "cell_type": "markdown",
   "metadata": {},
   "source": [
    "#### Неявный метод Эйлера"
   ]
  },
  {
   "cell_type": "markdown",
   "metadata": {},
   "source": [
    "Вычисляются приближенные значения решения уравнения в $N$ узловых точках $(x_k, y_k), \\; \\forall k: \\; 1 \\leq k \\leq N$ по иттерационной формуле: \n",
    "\n",
    "$$\n",
    "\\begin{equation*}\n",
    " \\begin{cases}\n",
    "   y_k = y_{k-1} + hz_{k}\n",
    "   \\\\\n",
    "   z_k = z_{k-1} + hf(x_{k}, y_{k}, z_{k})\n",
    "    \\\\\n",
    "   x_k = x_{k-1} + h\n",
    " \\end{cases}\n",
    "\\end{equation*}\n",
    "$$\n",
    "\n",
    "Значения $y_0 = y(1)$ и $z_0 = z(1)$ заданы в условии."
   ]
  },
  {
   "cell_type": "markdown",
   "metadata": {},
   "source": [
    "В общем случае для решения задачи требуется пользоваться иттерационными методами, например методом Ньютона.\n",
    "\n",
    "В данном случае иттерационную формулу проще вывести:\n",
    "\n",
    "$$\n",
    "\\begin{equation*}\n",
    " \\begin{cases}\n",
    "   z_k = z_{k-1} + h\\displaystyle\\frac{x_{k}(x_{k}^2 - 1)z_k + (x_{k}^{2} + 1)y_{k-1} + hz_k(x_{k}^{2} + 1)}{x_{k}^2}\n",
    "   \\\\\n",
    "   y_k = y_{k-1} + hz_{k}\n",
    "   \\\\\n",
    "   x_k = x_{k-1} + h\n",
    " \\end{cases}\n",
    "\\end{equation*}\n",
    "$$\n",
    "\n",
    "$=>$\n",
    "\n",
    "$$\n",
    "\\begin{equation*}\n",
    " \\begin{cases}\n",
    "   x_{k}^2 z_k = x_{k}^2 z_{k-1} + h x_{k} (x_{k}^2 - 1) z_k + h (x_{k}^{2} + 1)y_{k-1} + h^2 z_k (x_{k}^{2} + 1)\n",
    "   \\\\\n",
    "   y_k = y_{k-1} + hz_{k}\n",
    "   \\\\\n",
    "   x_k = x_{k-1} + h\n",
    " \\end{cases}\n",
    "\\end{equation*}\n",
    "$$\n",
    "\n",
    "$=>$\n",
    "\n",
    "$$\n",
    "\\begin{equation*}\n",
    " \\begin{cases}\n",
    "   z_k = \\displaystyle\\frac{x_{k}^2 z_{k-1} + h (x_{k}^{2} + 1)y_{k-1}}{x_{k}^2 - h^2 (x_{k}^2 + 1) - h x_k (x_{k}^2 - 1)}\n",
    "   \\\\\n",
    "   y_k = y_{k-1} + hz_{k}\n",
    "   \\\\\n",
    "   x_k = x_{k-1} + h\n",
    " \\end{cases}\n",
    "\\end{equation*}\n",
    "$$"
   ]
  },
  {
   "cell_type": "code",
   "execution_count": 10,
   "metadata": {},
   "outputs": [],
   "source": [
    "def im_eiler(xk, yk, zk, h):\n",
    "    xk2 = xk*xk\n",
    "    return (xk2*zk + h*yk*(xk2 + 1)) / (xk2 - h*h*(xk2 + 1) - h*xk*(xk2 - 1))\n",
    "\n",
    "def implict_eiler(x, y0, z0, h):\n",
    "    y = [y0]\n",
    "    z = [z0]\n",
    "    \n",
    "    for k in range(len(x) - 1):\n",
    "        z.append(im_eiler(x[k+1], y[k], z[k], h))\n",
    "        y.append(y[k] + h*z[k + 1])\n",
    "    return y, z"
   ]
  },
  {
   "cell_type": "markdown",
   "metadata": {},
   "source": [
    "#### Метод Эйлера-Коши"
   ]
  },
  {
   "cell_type": "markdown",
   "metadata": {},
   "source": [
    "Вычисляются приближенные значения решения уравнения в $N$ узловых точках $(x_k, y_k), \\; \\forall k: \\; 1 \\leq k \\leq N$ по иттерационной формуле: \n",
    "\n",
    "$$\n",
    "\\begin{equation*}\n",
    " \\begin{cases}\n",
    "   \\overline{y_k} = y_{k-1} + hz_{k-1}\n",
    "   \\\\\n",
    "   \\overline{z_k} = z_{k-1} + hf(x_{k-1}, y_{k-1}, z_{k-1})\n",
    "   \\\\\n",
    "   y_k = y_{k-1} + h\\displaystyle\\frac{z_{k-1}+\\overline{z_k}}{2}\n",
    "   \\\\\n",
    "   z_k = z_{k-1} + h\\displaystyle\\frac{f(x_{k-1}, y_{k-1}, z_{k-1})+f(x_k, \\overline{y_k}, \\overline{z_k})}{2}\n",
    "   \\\\\n",
    "   x_k = x_{k-1} + h\n",
    " \\end{cases}\n",
    "\\end{equation*}\n",
    "$$\n",
    "\n",
    "Значения $y_0 = y(1)$ и $z_0 = z(1)$ заданы в условии."
   ]
  },
  {
   "cell_type": "code",
   "execution_count": 11,
   "metadata": {},
   "outputs": [],
   "source": [
    "def explict_eiler_koshi(x, y0, z0, h, f = f_xyz):\n",
    "    y = [y0]\n",
    "    z = [z0]\n",
    "    \n",
    "    for k in range(len(x) - 1):\n",
    "        yk = y[k] + h*z[k]\n",
    "        zk = z[k] + h*f(x[k], y[k], z[k])\n",
    "        y.append(y[k] + h*(z[k] + zk) / 2)\n",
    "        z.append(z[k] + h*(f(x[k], y[k], z[k]) + f(x[k+1], yk, zk)) / 2)\n",
    "    return y, z"
   ]
  },
  {
   "cell_type": "markdown",
   "metadata": {},
   "source": [
    "#### Неявный метод Эйлера-Коши"
   ]
  },
  {
   "cell_type": "markdown",
   "metadata": {},
   "source": [
    "Вычисляются приближенные значения решения уравнения в $N$ узловых точках $(x_k, y_k), \\; \\forall k: \\; 1 \\leq k \\leq N$ по иттерационной формуле: \n",
    "\n",
    "$$\n",
    "\\begin{equation*}\n",
    " \\begin{cases}\n",
    "   y_k = y_{k-1} + h\\displaystyle\\frac{z_{k-1}+z_k}{2}\n",
    "   \\\\\n",
    "   z_k = z_{k-1} + h\\displaystyle\\frac{f(x_{k-1}, y_{k-1}, z_{k-1})+f(x_k, y_k, z_k)}{2}\n",
    "   \\\\\n",
    "   x_k = x_{k-1} + h\n",
    " \\end{cases}\n",
    "\\end{equation*}\n",
    "$$\n",
    "\n",
    "Значения $y_0 = y(1)$ и $z_0 = z(1)$ заданы в условии."
   ]
  },
  {
   "cell_type": "markdown",
   "metadata": {},
   "source": [
    "В общем случае для решения задачи требуется пользоваться иттерационными методами, например методом Ньютона.\n",
    "\n",
    "В данном случае иттерационную формулу проще вывести:\n",
    "\n",
    "$$\n",
    "\\begin{equation*}\n",
    " \\begin{cases}\n",
    "   z_k = \\displaystyle\\frac{2 x_{k}^2 z_{k-1} + h (x_{k}^{2} + 1)(y_{k-1} + h \\displaystyle\\frac{z_{k-1}}{2}) + x_{k}^2 h f(x_{k-1}, y_{k-1}, z_{k-1})}{2 x_{k}^2 - \\displaystyle\\frac{h^2}{2} (x_{k}^2 + 1) - h x_k (x_{k}^2 - 1)}\n",
    "   \\\\\n",
    "   y_k = y_{k-1} + h\\displaystyle\\frac{z_{k-1}+z_k}{2}\n",
    "   \\\\\n",
    "   x_k = x_{k-1} + h\n",
    " \\end{cases}\n",
    "\\end{equation*}\n",
    "$$"
   ]
  },
  {
   "cell_type": "code",
   "execution_count": 12,
   "metadata": {},
   "outputs": [],
   "source": [
    "def im_eiler_koshi(xk, yk, zk, f_v, h):\n",
    "    xk2 = xk*xk\n",
    "    return (2*xk2*zk + h*(yk + h*zk/2)*(xk2 + 1) + xk2*h*f_v) / (2*xk2 - h*h*(xk2 + 1) / 2 - h*xk*(xk2 - 1))\n",
    "\n",
    "def implict_eiler_koshi(x, y0, z0, h):\n",
    "    y = [y0]\n",
    "    z = [z0]\n",
    "    \n",
    "    for k in range(len(x) - 1):\n",
    "        f_v = f_xyz(x[k], y[k], z[k])\n",
    "        z.append(im_eiler_koshi(x[k+1], y[k], z[k], f_v, h))\n",
    "        y.append(y[k] + h*(z[k + 1] + z[k]) / 2)\n",
    "    return y, z"
   ]
  },
  {
   "cell_type": "markdown",
   "metadata": {},
   "source": [
    "#### Метод Эйлера-Коши с итерационной обработкой"
   ]
  },
  {
   "cell_type": "markdown",
   "metadata": {},
   "source": [
    "Вычисляются приближенные значения решения уравнения в $N$ узловых точках $(x_k, y_k), \\; \\forall k: \\; 1 \\leq k \\leq N$ по иттерационной формуле: \n",
    "\n",
    "$$\n",
    "\\begin{equation*}\n",
    " \\begin{cases}\n",
    "   y^{(0)}_k = y_{k-1} + h z_{k-1}\n",
    "   \\\\\n",
    "   z^{(0)}_k = z_{k-1} + h f(x_{k-1}, y_{k-1}, z_{k-1})\n",
    "   \\\\\n",
    "   y^{(i)}_{k} = y_{k-1} + h \\displaystyle\\frac{z_{k-1} + z_{k}^{(i - 1)}}{2}, \\; \\forall i: \\; 0 < i \\leq m\n",
    "   \\\\\n",
    "   z^{(i)}_k = z_{k-1} + h\\displaystyle\\frac{f(x_{k-1}, y_{k-1}, z_{k-1})+f(x_k, y^{(i-1)}_k, z^{(i-1)}_k)}{2}, \\; \\forall i: \\; 0 < i \\leq m\n",
    "   \\\\\n",
    "   y_k = y_{k}^{(m)}\n",
    "   \\\\\n",
    "   z_k = z_{k}^{(m)}\n",
    "   \\\\\n",
    "   x_k = x_{k-1} + h\n",
    " \\end{cases}\n",
    "\\end{equation*}\n",
    "$$\n",
    "\n",
    "Значения $y_0 = y(1)$ и $z_0 = z(1)$ заданы в условии. $m$ - количество иттераций, рекомендуется делать 3-4 шага."
   ]
  },
  {
   "cell_type": "code",
   "execution_count": 13,
   "metadata": {},
   "outputs": [],
   "source": [
    "m = 4 # itter param may be changed\n",
    "\n",
    "def itter_eiler_koshi(x, y0, z0, h, f = f_xyz):\n",
    "    y = [y0]\n",
    "    z = [z0]\n",
    "    \n",
    "    for k in range(len(x) - 1):\n",
    "        yk = y[k] + h*z[k]\n",
    "        zk = z[k] + h*f(x[k], y[k], z[k])\n",
    "        for i in range(m):\n",
    "            ykk = yk\n",
    "            zkk = zk\n",
    "            yk = y[k] + h*(z[k] + zkk) / 2\n",
    "            zk = z[k] + h*(f(x[k], y[k], z[k]) + f(x[k+1], ykk, zkk)) / 2\n",
    "        y.append(yk)\n",
    "        z.append(zk)\n",
    "    return y, z"
   ]
  },
  {
   "cell_type": "markdown",
   "metadata": {},
   "source": [
    "#### Первый улучшенный метод Эйлера"
   ]
  },
  {
   "cell_type": "markdown",
   "metadata": {},
   "source": [
    "Вычисляются приближенные значения решения уравнения в $N$ узловых точках $(x_k, y_k), \\; \\forall k: \\; 1 \\leq k \\leq N$ по иттерационной формуле: \n",
    "\n",
    "$$\n",
    "\\begin{equation*}\n",
    " \\begin{cases}\n",
    "   y_{k-\\frac{1}{2}} = y_{k-1} + \\displaystyle\\frac{h}{2}z_{k-1}\n",
    "   \\\\\n",
    "   z_{k-\\frac{1}{2}} = z_{k-1} + \\displaystyle\\frac{h}{2}f(x_{k-1}, y_{k-1}, z_{k-1})\n",
    "   \\\\\n",
    "   y_{k} = y_{k-1} + h z_{k-\\frac{1}{2}}\n",
    "   \\\\\n",
    "   z_{k} = z_{k-1} + h f(x_{k-1} + \\displaystyle\\frac{h}{2}, y_{k - \\frac{1}{2}}, z_{k - \\frac{1}{2}})\n",
    "   \\\\\n",
    "   x_k = x_{k-1} + h\n",
    " \\end{cases}\n",
    "\\end{equation*}\n",
    "$$\n",
    "\n",
    "Значения $y_0 = y(1)$ и $z_0 = z(1)$ заданы в условии."
   ]
  },
  {
   "cell_type": "code",
   "execution_count": 14,
   "metadata": {},
   "outputs": [],
   "source": [
    "def better_eiler(x, y0, z0, h, f = f_xyz):\n",
    "    y = [y0]\n",
    "    z = [z0]\n",
    "    \n",
    "    for k in range(len(x) - 1):\n",
    "        y2 = y[k] + h*z[k] / 2\n",
    "        z2 = z[k] + h*f(x[k], y[k], z[k]) / 2\n",
    "        x2 = x[k] + h/2\n",
    "        y.append(y[k] + h*z2)\n",
    "        z.append(z[k] + h*f(x2, y2, z2))\n",
    "    return y, z"
   ]
  },
  {
   "cell_type": "markdown",
   "metadata": {},
   "source": [
    "### <center> Методы Рунге-Кутты </center>"
   ]
  },
  {
   "cell_type": "markdown",
   "metadata": {},
   "source": [
    "#### Метод Рунге-Кутты 3-го порядка точности"
   ]
  },
  {
   "cell_type": "markdown",
   "metadata": {},
   "source": [
    "Вычисляются приближенные значения решения уравнения в $N$ узловых точках $(x_k, y_k), \\; \\forall k: \\; 1 \\leq k \\leq N$ по иттерационной формуле: \n",
    "\n",
    "$$\n",
    "\\begin{equation*}\n",
    " \\begin{cases}\n",
    "   y_{k} = y_{k-1} + \\Delta y_{k-1}\n",
    "   \\\\\n",
    "   z_{k} = z_{k-1} + \\Delta z_{k-1}\n",
    "   \\\\\n",
    "   \\Delta y_{k-1} = \\displaystyle\\frac{K_{1}^{k-1} + 3K_{3}^{k-1}}{4}\n",
    "   \\\\\n",
    "   \\Delta z_{k-1} = \\displaystyle\\frac{L_{1}^{k-1} + 3L_{3}^{k-1}}{4}\n",
    "   \\\\\n",
    "   K_{1}^{k-1} = h z_{k-1}\n",
    "   \\\\\n",
    "   L_{1}^{k-1} = h f(x_{k-1}, y_{k-1}, z_{k-1})\n",
    "   \\\\\n",
    "   K_{2}^{k-1} = h \\cdot (z_{k-1} + \\displaystyle\\frac{L_{1}^{k-1}}{3})\n",
    "   \\\\\n",
    "   L_{2}^{k-1} = h f(x_{k-1} + \\displaystyle\\frac{h}{3}, y_{k-1} + \\displaystyle\\frac{K_{1}^{k-1}}{3}, z_{k-1} + \\displaystyle\\frac{L_{1}^{k-1}}{3})\n",
    "   \\\\\n",
    "   K_{3}^{k-1} = h \\cdot (z_{k-1} + \\displaystyle\\frac{2 L_{2}^{k-1}}{3})\n",
    "   \\\\\n",
    "   L_{3}^{k-1} = h f(x_{k-1} + \\displaystyle\\frac{2 h}{3}, y_{k-1} + \\displaystyle\\frac{2 K_{2}^{k-1}}{3}, z_{k-1} + \\displaystyle\\frac{2 L_{2}^{k-1}}{3})\n",
    "   \\\\\n",
    "   x_k = x_{k-1} + h\n",
    " \\end{cases}\n",
    "\\end{equation*}\n",
    "$$\n",
    "\n",
    "Значения $y_0 = y(1)$ и $z_0 = z(1)$ заданы в условии."
   ]
  },
  {
   "cell_type": "code",
   "execution_count": 15,
   "metadata": {
    "scrolled": true
   },
   "outputs": [],
   "source": [
    "def delta_3p(xk, yk, zk, h, f):\n",
    "    K1 = h * zk\n",
    "    L1 = h * f(xk, yk, zk)\n",
    "    \n",
    "    K2 = h * (zk + L1 / 3)\n",
    "    L2 = h * f(xk + h/3, yk + K1/3, zk + L1/3)\n",
    "    \n",
    "    K3 = h * (zk + 2*L2 / 3)\n",
    "    L3 = h * f(xk + 2*h/3, yk + 2*K2/3, zk + 2*L2/3) \n",
    "    \n",
    "    return ((K1 + 3*K3)/4, (L1 + 3*L3)/4)\n",
    "\n",
    "def runge_kutta_3p(x, y0, z0, h, f = f_xyz):\n",
    "    y = [y0]\n",
    "    z = [z0]\n",
    "    for k in range(len(x) - 1):\n",
    "        delta = delta_3p(x[k], y[k], z[k], h, f)\n",
    "        y.append(y[k] + delta[0])\n",
    "        z.append(z[k] + delta[1])\n",
    "    return y, z"
   ]
  },
  {
   "cell_type": "markdown",
   "metadata": {},
   "source": [
    "#### Метод Рунге-Кутты 4-го порядка точности"
   ]
  },
  {
   "cell_type": "markdown",
   "metadata": {},
   "source": [
    "Вычисляются приближенные значения решения уравнения в $N$ узловых точках $(x_k, y_k), \\; \\forall k: \\; 1 \\leq k \\leq N$ по иттерационной формуле: \n",
    "\n",
    "$$\n",
    "\\begin{equation*}\n",
    " \\begin{cases}\n",
    "   y_{k} = y_{k-1} + \\Delta y_{k-1}\n",
    "   \\\\\n",
    "   z_{k} = z_{k-1} + \\Delta z_{k-1}\n",
    "   \\\\\n",
    "   \\Delta y_{k-1} = \\displaystyle\\frac{K_{1}^{k-1} + 2 K_{2}^{k-1} + 2 K_{3}^{k-1} + K_{4}^{k-1}}{6}\n",
    "   \\\\\n",
    "   \\Delta z_{k-1} = \\displaystyle\\frac{L_{1}^{k-1} + 2 L_{2}^{k-1} + 2 L_{3}^{k-1} + L_{4}^{k-1}}{6}\n",
    "   \\\\\n",
    "   K_{1}^{k-1} = h z_{k-1}\n",
    "   \\\\\n",
    "   L_{1}^{k-1} = h f(x_{k-1}, y_{k-1}, z_{k-1})\n",
    "   \\\\\n",
    "   K_{2}^{k-1} = h \\cdot (z_{k-1} + \\displaystyle\\frac{L_{1}^{k-1}}{2})\n",
    "   \\\\\n",
    "   L_{2}^{k-1} = h f(x_{k-1} + \\displaystyle\\frac{h}{2}, y_{k-1} + \\displaystyle\\frac{K_{1}^{k-1}}{2}, z_{k-1} + \\displaystyle\\frac{L_{1}^{k-1}}{2})\n",
    "   \\\\\n",
    "   K_{3}^{k-1} = h \\cdot (z_{k-1} + \\displaystyle\\frac{L_{2}^{k-1}}{2})\n",
    "   \\\\\n",
    "   L_{3}^{k-1} = h f(x_{k-1} + \\displaystyle\\frac{h}{2}, y_{k-1} + \\displaystyle\\frac{K_{2}^{k-1}}{2}, z_{k-1} + \\displaystyle\\frac{L_{2}^{k-1}}{2})\n",
    "   \\\\\n",
    "   K_{4}^{k-1} = h \\cdot (z_{k-1} + L_{3}^{k-1})\n",
    "   \\\\\n",
    "   L_{4}^{k-1} = h f(x_{k-1} + h, y_{k-1} + K_{3}^{k-1}, z_{k-1} + L_{3}^{k-1})\n",
    "   \\\\\n",
    "   x_k = x_{k-1} + h\n",
    " \\end{cases}\n",
    "\\end{equation*}\n",
    "$$\n",
    "\n",
    "Значения $y_0 = y(1)$ и $z_0 = z(1)$ заданы в условии."
   ]
  },
  {
   "cell_type": "code",
   "execution_count": 16,
   "metadata": {},
   "outputs": [],
   "source": [
    "def delta_4p(xk, yk, zk, h, f):\n",
    "    K1 = h * zk\n",
    "    L1 = h * f(xk, yk, zk)\n",
    "    \n",
    "    K2 = h * (zk + L1 / 2)\n",
    "    L2 = h * f(xk + h/2, yk + K1/2, zk + L1/2)\n",
    "    \n",
    "    K3 = h * (zk + L2 / 2)\n",
    "    L3 = h * f(xk + h/2, yk + K2/2, zk + L2/2)\n",
    "    \n",
    "    K4 = h * (zk + L3)\n",
    "    L4 = h * f(xk + h, yk + K3, zk + L3) \n",
    "    \n",
    "    return ((K1 + 2*K2 + 2*K3 + K4)/6, (L1 + 2*L2 + 2*L3 + L4)/6)\n",
    "\n",
    "def runge_kutta_4p(x, y0, z0, h, f = f_xyz):\n",
    "    y = [y0]\n",
    "    z = [z0]\n",
    "    for k in range(len(x) - 1):\n",
    "        delta = delta_4p(x[k], y[k], z[k], h, f)\n",
    "        y.append(y[k] + delta[0])\n",
    "        z.append(z[k] + delta[1])\n",
    "    return y, z"
   ]
  },
  {
   "cell_type": "markdown",
   "metadata": {},
   "source": [
    "### <center> Методы Адамса </center>"
   ]
  },
  {
   "cell_type": "markdown",
   "metadata": {},
   "source": [
    "#### Метод Адамса"
   ]
  },
  {
   "cell_type": "markdown",
   "metadata": {},
   "source": [
    "Вычисляются приближенные значения решения уравнения в $N$ узловых точках $(x_k, y_k), \\; \\forall k: \\; 4 \\leq k \\leq N$ по иттерационной формуле: \n",
    "\n",
    "$$\n",
    "\\begin{equation*}\n",
    " \\begin{cases}\n",
    "   y_k = y_{k-1} + \\displaystyle\\frac{h}{24}(55z_{k-1} - 59z_{k-2} + 37z_{k-3} -9z_{k-4})\n",
    "   \\\\\n",
    "   z_k = z_{k-1} + \\displaystyle\\frac{h}{24}(55f_{k-1} - 59f_{k-2} + 37f_{k-3} - 9f_{k-4})\n",
    "   \\\\\n",
    "   x_k = x_{k-1} + h\n",
    " \\end{cases}\n",
    "\\end{equation*}\n",
    "$$\n",
    "\n",
    "Здесь $f_i = f(x_i, y_i, z_i)$\n",
    "\n",
    "Значения $y_0 = y(1)$ и $z_0 = z(1)$ заданы в условии, а значения $y_1, \\; y_2, \\; y_3$ можно расчитать *методом Рунге-Кутты*."
   ]
  },
  {
   "cell_type": "code",
   "execution_count": 17,
   "metadata": {
    "scrolled": true
   },
   "outputs": [],
   "source": [
    "def adams_z(x, y, z, h, f, k):\n",
    "    return z[k] + h*(\n",
    "        55*f(x[k], y[k], z[k]) - \n",
    "        59*f(x[k-1], y[k-1], z[k-1]) +\n",
    "        37*f(x[k-2], y[k-2], z[k-2]) -\n",
    "        9*f(x[k-3], y[k-3], z[k-3])) / 24\n",
    "\n",
    "def adams_y(x, y, z, h, f, k):\n",
    "    return y[k] + h*(55*z[k] - 59*z[k-1] + 37*z[k-2] - 9*z[k-3]) / 24\n",
    "\n",
    "def adams_method(x, y0, z0, h, f = f_xyz):\n",
    "    y, z = runge_kutta_4p(x[:4], y0, z0, h, f)\n",
    "    for k in range(3, len(x)-1):\n",
    "        y.append(adams_y(x, y, z, h, f, k))\n",
    "        z.append(adams_z(x, y, z, h, f, k))\n",
    "    return y, z"
   ]
  },
  {
   "cell_type": "markdown",
   "metadata": {},
   "source": [
    "#### Метод Адамса-Бэшфортса-Моултона"
   ]
  },
  {
   "cell_type": "markdown",
   "metadata": {},
   "source": [
    "Вычисляются приближенные значения решения уравнения в $N$ узловых точках $(x_k, y_k), \\; \\forall k: \\; 4 \\leq k \\leq N$ по иттерационной формуле: \n",
    "\n",
    "$$\n",
    "\\begin{equation*}\n",
    " \\begin{cases}\n",
    "   \\overline{y_k} = y_{k-1} + \\displaystyle\\frac{h}{24}(55z_{k-1} - 59z_{k-2} + 37z_{k-3} -9z_{k-4})\n",
    "   \\\\\n",
    "   \\overline{z_k} = z_{k-1} + \\displaystyle\\frac{h}{24}(55f_{k-1} - 59f_{k-2} + 37f_{k-3} - 9f_{k-4})\n",
    "   \\\\\n",
    "   z_{k} = \\overline{z_{k-1}}\n",
    "   \\\\\n",
    "   f_{k} = f(x_{k}, \\overline{y_k}, \\overline{z_k})\n",
    "   \\\\ \n",
    "   y_k = y_{k-1} + \\displaystyle\\frac{h}{24}(9z_{k} + 19z_{k-1} - 5z_{k-2} + z_{k-3})\n",
    "   \\\\\n",
    "   z_k = z_{k-1} + \\displaystyle\\frac{h}{24}(9f_{k} + 19f_{k-1} - 5f_{k-2} + f_{k-3})\n",
    "   \\\\\n",
    "   x_k = x_{k-1} + h\n",
    " \\end{cases}\n",
    "\\end{equation*}\n",
    "$$\n",
    "\n",
    "Здесь $f_i = f(x_i, y_i, z_i)$, где формула не указана явно.\n",
    "\n",
    "Значения $y_0 = y(1)$ и $z_0 = z(1)$ заданы в условии, а значения $y_1, \\; y_2, \\; y_3$ можно расчитать *методом Рунге-Кутты*."
   ]
  },
  {
   "cell_type": "code",
   "execution_count": 18,
   "metadata": {},
   "outputs": [],
   "source": [
    "def adams_pred_z(x, y, z, h, f, k):\n",
    "    return z[k] + h*(\n",
    "        55*f(x[k], y[k], z[k]) - \n",
    "        59*f(x[k-1], y[k-1], z[k-1]) +\n",
    "        37*f(x[k-2], y[k-2], z[k-2]) -\n",
    "        9*f(x[k-3], y[k-3], z[k-3])) / 24\n",
    "\n",
    "def adams_pred_y(x, y, z, h, f, k):\n",
    "    return y[k] + h*(55*z[k] - 59*z[k-1] + 37*z[k-2] -9*z[k-3]) / 24\n",
    "\n",
    "def adams_cor_z(x, y, z, h, f, k):\n",
    "    return z[k] + h*(\n",
    "        9*f(x[k+1], adams_pred_y(x, y, z, h, f, k), adams_pred_z(x, y, z, h, f, k)) + \n",
    "        19*f(x[k], y[k], z[k]) -\n",
    "        5*f(x[k-1], y[k-1], z[k-1]) +\n",
    "        f(x[k-2], y[k-2], z[k-2])) / 24\n",
    "\n",
    "def adams_cor_y(x, y, z, h, f, k):\n",
    "    return y[k] + h*(9*adams_pred_z(x, y, z, h, f, k) + 19*z[k] - 5*z[k-1] + z[k-2]) / 24\n",
    "\n",
    "def adams_boult_method(x, y0, z0, h, f = f_xyz):\n",
    "    y, z = runge_kutta_4p(x[:4], y0, z0, h, f)\n",
    "    for k in range(3, len(x)-1):\n",
    "        y.append(adams_cor_y(x, y, z, h, f, k))\n",
    "        z.append(adams_cor_z(x, y, z, h, f, k))\n",
    "    return y, z"
   ]
  },
  {
   "cell_type": "markdown",
   "metadata": {},
   "source": [
    "### <center> Метод Рунге-Ромберга-Ричардсона </center>"
   ]
  },
  {
   "cell_type": "markdown",
   "metadata": {},
   "source": [
    "В случае приближённого решения $y_1$ и $y_2$ с постоянными шагами $h_1$ и $h_2$ соответственно и порядком точности $p$, где $h_2 = 2h_1 $ формула приближенного вычисления погрешности вычисления порядка точности $p + 1 \\;$ $ R^h = \\displaystyle\\frac{\\| y_1 - y_2 \\|}{2^p - 1} \\; $ реализуется:"
   ]
  },
  {
   "cell_type": "code",
   "execution_count": 19,
   "metadata": {
    "scrolled": true
   },
   "outputs": [],
   "source": [
    "def runge_romberg_rich_method(y1, y2, p):\n",
    "    norm = 0.0\n",
    "    for i in range(len(y2)):\n",
    "        norm += (y1[i*2] - y2[i])**2\n",
    "    return (norm**0.5) / (2**p - 1)"
   ]
  },
  {
   "cell_type": "markdown",
   "metadata": {},
   "source": [
    "### <center> Демонстрация работы </center>"
   ]
  },
  {
   "cell_type": "markdown",
   "metadata": {},
   "source": [
    "Начальные значения задаем в коде:"
   ]
  },
  {
   "cell_type": "code",
   "execution_count": 20,
   "metadata": {
    "scrolled": true
   },
   "outputs": [],
   "source": [
    "a = 1\n",
    "b = 2\n",
    "h = 0.1\n",
    "y0 = 1 + math.exp(1/2)\n",
    "z0 = -1"
   ]
  },
  {
   "cell_type": "markdown",
   "metadata": {},
   "source": [
    "Значения узловых точек, в которых будут приближаться решения задачи Коши:"
   ]
  },
  {
   "cell_type": "code",
   "execution_count": 21,
   "metadata": {},
   "outputs": [],
   "source": [
    "x = compute_x(a, b, h)\n",
    "xr = compute_x(a, b, h/2)"
   ]
  },
  {
   "cell_type": "markdown",
   "metadata": {},
   "source": [
    "Абсолютная погрешность *явного метода Эйлера*:"
   ]
  },
  {
   "cell_type": "code",
   "execution_count": 22,
   "metadata": {
    "scrolled": true
   },
   "outputs": [
    {
     "name": "stdout",
     "output_type": "stream",
     "text": [
      "Погрешность вычисления y': 0.7574105372312118\n",
      "Погрешность вычисления y: 0.5582367523703139\n"
     ]
    }
   ],
   "source": [
    "y, z = explict_eiler(x, y0, z0, h)\n",
    "print(\"Погрешность вычисления y':\", d_epsilon(x, z))\n",
    "print(\"Погрешность вычисления y:\", epsilon(x, y))"
   ]
  },
  {
   "cell_type": "markdown",
   "metadata": {},
   "source": [
    "Погрешность *явного метода Эйлера* с помощью *метода Рунге-Ромберга-Ричардсона*:"
   ]
  },
  {
   "cell_type": "code",
   "execution_count": 23,
   "metadata": {
    "scrolled": true
   },
   "outputs": [
    {
     "name": "stdout",
     "output_type": "stream",
     "text": [
      "Погрешность вычисления y': 0.3321641637820709\n",
      "Погрешность вычисления y: 0.25935785742625495\n"
     ]
    }
   ],
   "source": [
    "p = 1\n",
    "yr, zr = explict_eiler(xr, y0, z0, h/2)\n",
    "print(\"Погрешность вычисления y':\", runge_romberg_rich_method(zr, z, p))\n",
    "print(\"Погрешность вычисления y:\", runge_romberg_rich_method(yr, y, p))"
   ]
  },
  {
   "cell_type": "markdown",
   "metadata": {},
   "source": [
    "Абсолютная погрешность *неявного метода Эйлера:*"
   ]
  },
  {
   "cell_type": "code",
   "execution_count": 24,
   "metadata": {
    "scrolled": true
   },
   "outputs": [
    {
     "name": "stdout",
     "output_type": "stream",
     "text": [
      "Погрешность вычисления y': 1.284465175184231\n",
      "Погрешность вычисления y: 0.7936348981585359\n"
     ]
    }
   ],
   "source": [
    "y, z = implict_eiler(x, y0, z0, h)\n",
    "print(\"Погрешность вычисления y':\", d_epsilon(x, z))\n",
    "print(\"Погрешность вычисления y:\", epsilon(x, y))"
   ]
  },
  {
   "cell_type": "markdown",
   "metadata": {},
   "source": [
    "Погрешность *неявного метода Эйлера* с помощью *метода Рунге-Ромберга-Ричардсона:*"
   ]
  },
  {
   "cell_type": "code",
   "execution_count": 25,
   "metadata": {},
   "outputs": [
    {
     "name": "stdout",
     "output_type": "stream",
     "text": [
      "Погрешность вычисления y': 0.7314132366091183\n",
      "Погрешность вычисления y: 0.43795924521348467\n"
     ]
    }
   ],
   "source": [
    "p = 1\n",
    "yr, zr = implict_eiler(xr, y0, z0, h/2)\n",
    "print(\"Погрешность вычисления y':\", runge_romberg_rich_method(zr, z, p))\n",
    "print(\"Погрешность вычисления y:\", runge_romberg_rich_method(yr, y, p))"
   ]
  },
  {
   "cell_type": "markdown",
   "metadata": {},
   "source": [
    "Абсолютная погрешность *явного метода Эйлера-Коши:*"
   ]
  },
  {
   "cell_type": "code",
   "execution_count": 26,
   "metadata": {},
   "outputs": [
    {
     "name": "stdout",
     "output_type": "stream",
     "text": [
      "Погрешность вычисления y': 0.015331681582464082\n",
      "Погрешность вычисления y: 0.010673398095964622\n"
     ]
    }
   ],
   "source": [
    "y, z = explict_eiler_koshi(x, y0, z0, h)\n",
    "print(\"Погрешность вычисления y':\", d_epsilon(x, z))\n",
    "print(\"Погрешность вычисления y:\", epsilon(x, y))"
   ]
  },
  {
   "cell_type": "markdown",
   "metadata": {},
   "source": [
    "Погрешность *явного метода Эйлера-Коши* с помощью *метода Рунге-Ромберга-Ричардсона:*"
   ]
  },
  {
   "cell_type": "code",
   "execution_count": 27,
   "metadata": {},
   "outputs": [
    {
     "name": "stdout",
     "output_type": "stream",
     "text": [
      "Погрешность вычисления y': 0.0037731392264878766\n",
      "Погрешность вычисления y: 0.0025520103059432776\n"
     ]
    }
   ],
   "source": [
    "p = 2\n",
    "yr, zr = explict_eiler_koshi(xr, y0, z0, h/2)\n",
    "print(\"Погрешность вычисления y':\", runge_romberg_rich_method(zr, z, p))\n",
    "print(\"Погрешность вычисления y:\", runge_romberg_rich_method(yr, y, p))"
   ]
  },
  {
   "cell_type": "markdown",
   "metadata": {},
   "source": [
    "Абсолютная погрешность *неявного метода Эйлера-Коши:*"
   ]
  },
  {
   "cell_type": "code",
   "execution_count": 28,
   "metadata": {},
   "outputs": [
    {
     "name": "stdout",
     "output_type": "stream",
     "text": [
      "Погрешность вычисления y': 0.10017931798796431\n",
      "Погрешность вычисления y: 0.03891122103479861\n"
     ]
    }
   ],
   "source": [
    "y, z = implict_eiler_koshi(x, y0, z0, h)\n",
    "print(\"Погрешность вычисления y':\", d_epsilon(x, z))\n",
    "print(\"Погрешность вычисления y:\", epsilon(x, y))"
   ]
  },
  {
   "cell_type": "markdown",
   "metadata": {},
   "source": [
    "Погрешность *неявного метода Эйлера-Коши* с помощью *метода Рунге-Ромберга-Ричардсона:*"
   ]
  },
  {
   "cell_type": "code",
   "execution_count": 29,
   "metadata": {},
   "outputs": [
    {
     "name": "stdout",
     "output_type": "stream",
     "text": [
      "Погрешность вычисления y': 0.025089677846475315\n",
      "Погрешность вычисления y: 0.009747762732615158\n"
     ]
    }
   ],
   "source": [
    "p = 2\n",
    "yr, zr = implict_eiler_koshi(xr, y0, z0, h/2)\n",
    "print(\"Погрешность вычисления y':\", runge_romberg_rich_method(zr, z, p))\n",
    "print(\"Погрешность вычисления y:\", runge_romberg_rich_method(yr, y, p))"
   ]
  },
  {
   "cell_type": "markdown",
   "metadata": {},
   "source": [
    "Абсолютная погрешность *метода Эйлера-Коши с итерационной обработкой:*"
   ]
  },
  {
   "cell_type": "code",
   "execution_count": 30,
   "metadata": {},
   "outputs": [
    {
     "name": "stdout",
     "output_type": "stream",
     "text": [
      "Погрешность вычисления y': 0.10010925946768752\n",
      "Погрешность вычисления y: 0.038872168404899175\n"
     ]
    }
   ],
   "source": [
    "y, z = itter_eiler_koshi(x, y0, z0, h)\n",
    "print(\"Погрешность вычисления y':\", d_epsilon(x, z))\n",
    "print(\"Погрешность вычисления y:\", epsilon(x, y))"
   ]
  },
  {
   "cell_type": "markdown",
   "metadata": {},
   "source": [
    "Погрешность неявного *метода Эйлера-Коши с итерационной обработкой* с помощью *метода Рунге-Ромберга-Ричардсона:*"
   ]
  },
  {
   "cell_type": "code",
   "execution_count": 31,
   "metadata": {},
   "outputs": [
    {
     "name": "stdout",
     "output_type": "stream",
     "text": [
      "Погрешность вычисления y': 0.025067044003019425\n",
      "Погрешность вычисления y: 0.009735151420091499\n"
     ]
    }
   ],
   "source": [
    "p = 2\n",
    "yr, zr = itter_eiler_koshi(xr, y0, z0, h/2)\n",
    "print(\"Погрешность вычисления y':\", runge_romberg_rich_method(zr, z, p))\n",
    "print(\"Погрешность вычисления y:\", runge_romberg_rich_method(yr, y, p))"
   ]
  },
  {
   "cell_type": "markdown",
   "metadata": {},
   "source": [
    "Абсолютная погрешность *метода Рунге-Кутты третьего порядка*:"
   ]
  },
  {
   "cell_type": "code",
   "execution_count": 32,
   "metadata": {},
   "outputs": [
    {
     "name": "stdout",
     "output_type": "stream",
     "text": [
      "Погрешность вычисления y': 0.002759882776841795\n",
      "Погрешность вычисления y: 0.0018840876056293026\n"
     ]
    }
   ],
   "source": [
    "y, z = runge_kutta_3p(x, y0, z0, h)\n",
    "print(\"Погрешность вычисления y':\", d_epsilon(x, z))\n",
    "print(\"Погрешность вычисления y:\", epsilon(x, y))"
   ]
  },
  {
   "cell_type": "markdown",
   "metadata": {},
   "source": [
    "Погрешность  *метода Рунге-Кутты третьего порядка*  с помощью *метода Рунге-Ромберга-Ричардсона:*"
   ]
  },
  {
   "cell_type": "code",
   "execution_count": 33,
   "metadata": {},
   "outputs": [
    {
     "name": "stdout",
     "output_type": "stream",
     "text": [
      "Погрешность вычисления y': 0.0003396886341330073\n",
      "Погрешность вычисления y: 0.00023311188315057867\n"
     ]
    }
   ],
   "source": [
    "p = 3\n",
    "yr, zr = runge_kutta_3p(xr, y0, z0, h/2)\n",
    "print(\"Погрешность вычисления y':\", runge_romberg_rich_method(zr, z, p))\n",
    "print(\"Погрешность вычисления y:\", runge_romberg_rich_method(yr, y, p))"
   ]
  },
  {
   "cell_type": "markdown",
   "metadata": {},
   "source": [
    "Абсолютная погрешность *метода Рунге-Кутты четвёртого порядка:*"
   ]
  },
  {
   "cell_type": "code",
   "execution_count": 34,
   "metadata": {
    "scrolled": true
   },
   "outputs": [
    {
     "name": "stdout",
     "output_type": "stream",
     "text": [
      "Погрешность вычисления y': 3.3580572530910804e-05\n",
      "Погрешность вычисления y: 2.243362412801516e-05\n"
     ]
    }
   ],
   "source": [
    "y, z = runge_kutta_4p(x, y0, z0, h)\n",
    "print(\"Погрешность вычисления y':\", d_epsilon(x, z))\n",
    "print(\"Погрешность вычисления y:\", epsilon(x, y))"
   ]
  },
  {
   "cell_type": "markdown",
   "metadata": {},
   "source": [
    "Погрешность *метода Рунге-Кутты четвертого порядка* с помощью *метода Рунге-Ромберга-Ричардсона*:"
   ]
  },
  {
   "cell_type": "code",
   "execution_count": 35,
   "metadata": {},
   "outputs": [
    {
     "name": "stdout",
     "output_type": "stream",
     "text": [
      "Погрешность вычисления y': 2.1052860420152156e-06\n",
      "Погрешность вычисления y: 1.4035550461825057e-06\n"
     ]
    }
   ],
   "source": [
    "p = 4\n",
    "yr, zr = runge_kutta_4p(xr, y0, z0, h/2)\n",
    "print(\"Погрешность вычисления y':\", runge_romberg_rich_method(zr, z, p))\n",
    "print(\"Погрешность вычисления y:\", runge_romberg_rich_method(yr, y, p))"
   ]
  },
  {
   "cell_type": "markdown",
   "metadata": {},
   "source": [
    "Абсолютная погрешность *метода Адамса четвёртого порядка:*"
   ]
  },
  {
   "cell_type": "code",
   "execution_count": 36,
   "metadata": {},
   "outputs": [
    {
     "name": "stdout",
     "output_type": "stream",
     "text": [
      "Погрешность вычисления y': 0.02231775420779894\n",
      "Погрешность вычисления y: 0.0065999421014504185\n"
     ]
    }
   ],
   "source": [
    "y, z = adams_method(x, y0, z0, h)\n",
    "print(\"Погрешность вычисления y':\", d_epsilon(x, z))\n",
    "print(\"Погрешность вычисления y:\", epsilon(x, y))"
   ]
  },
  {
   "cell_type": "markdown",
   "metadata": {},
   "source": [
    "Погрешность метода Адамса четвертого порядка с помощью метода Рунге-Ромберга-Ричардсона:"
   ]
  },
  {
   "cell_type": "code",
   "execution_count": 37,
   "metadata": {},
   "outputs": [
    {
     "name": "stdout",
     "output_type": "stream",
     "text": [
      "Погрешность вычисления y': 0.0013372594756700053\n",
      "Погрешность вычисления y: 0.0003900960620764228\n"
     ]
    }
   ],
   "source": [
    "p = 4\n",
    "yr, zr = adams_method(xr, y0, z0, h/2)\n",
    "print(\"Погрешность вычисления y':\", runge_romberg_rich_method(zr, z, p))\n",
    "print(\"Погрешность вычисления y:\", runge_romberg_rich_method(yr, y, p))"
   ]
  },
  {
   "cell_type": "markdown",
   "metadata": {},
   "source": [
    "Абсолютная погрешность *метода Адамса-Бэшфортса-Моултона четвёртого порядка:*"
   ]
  },
  {
   "cell_type": "code",
   "execution_count": 38,
   "metadata": {},
   "outputs": [
    {
     "name": "stdout",
     "output_type": "stream",
     "text": [
      "Погрешность вычисления y': 0.000539628714768186\n",
      "Погрешность вычисления y: 0.0002869698299201402\n"
     ]
    }
   ],
   "source": [
    "y, z = adams_boult_method(x, y0, z0, h)\n",
    "print(\"Погрешность вычисления y':\", d_epsilon(x, z))\n",
    "print(\"Погрешность вычисления y:\", epsilon(x, y))"
   ]
  },
  {
   "cell_type": "markdown",
   "metadata": {},
   "source": [
    "Погрешность *метода Адамса-Бэшфортса-Моултона четвертого порядка* с помощью *метода Рунге-Ромберга-Ричардсона:*"
   ]
  },
  {
   "cell_type": "code",
   "execution_count": 39,
   "metadata": {},
   "outputs": [
    {
     "name": "stdout",
     "output_type": "stream",
     "text": [
      "Погрешность вычисления y': 2.8568448080373845e-05\n",
      "Погрешность вычисления y: 1.9830827451453437e-05\n"
     ]
    }
   ],
   "source": [
    "p = 4\n",
    "yr, zr = adams_boult_method(xr, y0, z0, h/2)\n",
    "print(\"Погрешность вычисления y':\", runge_romberg_rich_method(zr, z, p))\n",
    "print(\"Погрешность вычисления y:\", runge_romberg_rich_method(yr, y, p))"
   ]
  },
  {
   "cell_type": "markdown",
   "metadata": {},
   "source": [
    "### <center> Графическое отображение </center>"
   ]
  },
  {
   "cell_type": "code",
   "execution_count": 40,
   "metadata": {
    "scrolled": false
   },
   "outputs": [
    {
     "data": {
      "image/png": "[encoded data removed]",
      "text/plain": [
       "<Figure size 1224x1008 with 2 Axes>"
      ]
     },
     "metadata": {
      "needs_background": "light"
     },
     "output_type": "display_data"
    }
   ],
   "source": [
    "a = 1\n",
    "b = 2\n",
    "h = 0.5\n",
    "y0 = 1 + math.exp(1/2)\n",
    "z0 = -1\n",
    "\n",
    "xp = compute_x(a, b, h)\n",
    "xi = compute_x(a, b, 0.0005)\n",
    "\n",
    "yp1, zp1 = explict_eiler(xp, y0, z0, h)\n",
    "Ly = lagrange_func(xp, yp1)\n",
    "Lz = lagrange_func(xp, zp1)\n",
    "y1 = list(map(Ly, xi))\n",
    "z1 = list(map(Lz, xi))\n",
    "\n",
    "yp2, zp2 = explict_eiler_koshi(xp, y0, z0, h)\n",
    "Ly = lagrange_func(xp, yp2)\n",
    "Lz = lagrange_func(xp, zp2)\n",
    "y2 = list(map(Ly, xi))\n",
    "z2 = list(map(Lz, xi))\n",
    "\n",
    "yp3, zp3 = runge_kutta_3p(xp, y0, z0, h)\n",
    "Ly = lagrange_func(xp, yp3)\n",
    "Lz = lagrange_func(xp, zp3)\n",
    "y3 = list(map(Ly, xi))\n",
    "z3 = list(map(Lz, xi))\n",
    "\n",
    "yp4, zp4 = runge_kutta_4p(xp, y0, z0, h)\n",
    "Ly = lagrange_func(xp, yp4)\n",
    "Lz = lagrange_func(xp, zp4)\n",
    "y4 = list(map(Ly, xi))\n",
    "z4 = list(map(Lz, xi))\n",
    "\n",
    "yp5, zp5 = adams_boult_method(xp, y0, z0, h)\n",
    "Ly = lagrange_func(xp, yp5)\n",
    "Lz = lagrange_func(xp, zp5)\n",
    "y5 = list(map(Ly, xi))\n",
    "z5 = list(map(Lz, xi))\n",
    "\n",
    "y6 = list(map(y_x, xi))\n",
    "z6 = list(map(dy_dx_x, xi))\n",
    "\n",
    "yp = list(map(y_x, xp))\n",
    "zp = list(map(dy_dx_x, xp))\n",
    "\n",
    "\n",
    "fig = plt.figure(figsize=(17, 14))\n",
    "ax1 = fig.add_subplot(211)\n",
    "ax2 = fig.add_subplot(212)\n",
    "\n",
    "ax1.plot(xp, yp, 'o')\n",
    "\n",
    "line1, = ax1.plot(xi, y1, 'r')\n",
    "line2, = ax1.plot(xi, y2, 'c')\n",
    "line3, = ax1.plot(xi, y3, 'y')\n",
    "line4, = ax1.plot(xi, y4, 'g')\n",
    "line5, = ax1.plot(xi, y5, 'orange')\n",
    "line6, = ax1.plot(xi, y6, 'b')\n",
    "\n",
    "\n",
    "\n",
    "\n",
    "ax1.set_xlabel('x')\n",
    "ax1.set_ylabel('y')\n",
    "\n",
    "\n",
    "# set title, plot limits, etc\n",
    "ax1.set_title('Приближения решения задачи Коши различными методами')\n",
    "ax1.set_xlim(0.97, 2.03)\n",
    "\n",
    "\n",
    "\n",
    "ax1.legend((line1, line2, line3, line4, line5, line6), \n",
    "           (\"Явный Эйлер\", \"Явный Эйлер-Коши\", \"Рунге-Кутта 3-го\", \"Рунге-Кутта 4-го\", \n",
    "            \"Адамс-Бэшфортс-Моултон 4-го\", \"Точное решение\"))\n",
    "ax1.grid()\n",
    "\n",
    "ax2.plot(xp, zp, 'o')\n",
    "\n",
    "line7, = ax2.plot(xi, z1, 'r')\n",
    "line8, = ax2.plot(xi, z2, 'c')\n",
    "line9, = ax2.plot(xi, z3, 'y')\n",
    "line10, = ax2.plot(xi, z4, 'g')\n",
    "line11, = ax2.plot(xi, z5, 'orange')\n",
    "line12, = ax2.plot(xi, z6, 'b')\n",
    "\n",
    "\n",
    "ax2.set_xlabel('x')\n",
    "ax2.set_ylabel(\"y'\")\n",
    "\n",
    "\n",
    "# set title, plot limits, etc\n",
    "ax2.set_title('Приближения первой производной при решении задачи Коши различными методами')\n",
    "ax2.set_xlim(0.97, 2.03)\n",
    "\n",
    "\n",
    "\n",
    "ax2.legend((line7, line8, line9, line10, line11, line12), \n",
    "           (\"Явный Эйлер\", \"Явный Эйлер-Коши\", \"Рунге-Кутта 3-го\", \"Рунге-Кутта 4-го\", \n",
    "            \"Адамс-Бэшфортс-Моултон 4-го\", \"Точное решение\"))\n",
    "ax2.grid()\n",
    "\n",
    "\n",
    "plt.show()"
   ]
  },
  {
   "cell_type": "code",
   "execution_count": 41,
   "metadata": {},
   "outputs": [],
   "source": [
    "def epsilon_by_h(y0, z0, h, a, b, met):\n",
    "    xi = compute_x(a, b, h)\n",
    "    y = met(xi, y0, z0, h)[0]\n",
    "    return epsilon(xi, y)"
   ]
  },
  {
   "cell_type": "code",
   "execution_count": 42,
   "metadata": {},
   "outputs": [
    {
     "data": {
      "image/png": "[encoded data removed]",
      "text/plain": [
       "<Figure size 1224x576 with 1 Axes>"
      ]
     },
     "metadata": {
      "needs_background": "light"
     },
     "output_type": "display_data"
    }
   ],
   "source": [
    "hi = [(b - a) / i for i in range(6, 12, 2)]\n",
    "\n",
    "hh = list(map(math.log, hi))\n",
    "\n",
    "y1 = list(map(lambda v: math.log(epsilon_by_h(y0, z0, v, a, b, explict_eiler)), hi))\n",
    "y2 = list(map(lambda v: math.log(epsilon_by_h(y0, z0, v, a, b, explict_eiler_koshi)), hi))\n",
    "y3 = list(map(lambda v: math.log(epsilon_by_h(y0, z0, v, a, b, runge_kutta_3p)), hi))\n",
    "y4 = list(map(lambda v: math.log(epsilon_by_h(y0, z0, v, a, b, runge_kutta_4p)), hi))\n",
    "y5 = list(map(lambda v: math.log(epsilon_by_h(y0, z0, v, a, b, adams_boult_method)), hi))\n",
    "\n",
    "\n",
    "fig = plt.figure(figsize=(17, 8))\n",
    "ax1 = fig.add_subplot(111)\n",
    "\n",
    "line1, = ax1.plot(hh, y1, 'r')\n",
    "line2, = ax1.plot(hh, y2, 'c')\n",
    "line3, = ax1.plot(hh, y3, 'g')\n",
    "line4, = ax1.plot(hh, y4, 'm')\n",
    "line5, = ax1.plot(hh, y5, 'orange')\n",
    "\n",
    "ax1.set_xlabel('log(h)')\n",
    "ax1.set_ylabel('log(e)')\n",
    "\n",
    "\n",
    "# set title, plot limits, etc\n",
    "plt.title('Зависимость логарифма погрешности вычислений от логарифма длины шага h')\n",
    "\n",
    "\n",
    "\n",
    "ax1.legend((line1, line2, line3, line4, line5), \n",
    "           (\"Явный Эйлер\", \"Явный Эйлер-Коши\", \"Рунге-Кутта 3-го\", \"Рунге-Кутта 4-го\", \n",
    "            \"Адамс-Бэшфортс-Моултон 4-го\"))\n",
    "\n",
    "plt.grid()\n",
    "\n",
    "plt.show()"
   ]
  },
  {
   "cell_type": "markdown",
   "metadata": {},
   "source": [
    "###### <center>Сделано Бронниковым Максимом</center>\n",
    "###### <center>18.04.2020</center>"
   ]
  }
 ],
 "metadata": {
  "kernelspec": {
   "display_name": "Python 3",
   "language": "python",
   "name": "python3"
  },
  "language_info": {
   "codemirror_mode": {
    "name": "ipython",
    "version": 3
   },
   "file_extension": ".py",
   "mimetype": "text/x-python",
   "name": "python",
   "nbconvert_exporter": "python",
   "pygments_lexer": "ipython3",
   "version": "3.8.3"
  }
 },
 "nbformat": 4,
 "nbformat_minor": 4
}

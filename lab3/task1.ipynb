{
 "cells": [
  {
   "cell_type": "markdown",
   "metadata": {},
   "source": [
    "#### <left>Бронников Максим Андреевич</left>"
   ]
  },
  {
   "cell_type": "markdown",
   "metadata": {},
   "source": [
    "*M8О-307Б, №4 по списку*"
   ]
  },
  {
   "cell_type": "markdown",
   "metadata": {},
   "source": [
    "#   <center>Лабораторная работа №3</center>\n",
    "### <center> Задание №1 </center>"
   ]
  },
  {
   "cell_type": "markdown",
   "metadata": {},
   "source": [
    "**Используя таблицу значений $ y_i $  функции $ y = f(x_i) $, вычисленных в точках $ x_i, $ $ i = 0, ..., 3 $ построить интерполяционные многочлены Лагранжа и Ньютона, проходящие через точки $ (x_i, y_i) $.  Вычислить значение погрешности интерполяции в точке $ x^{*} $.**"
   ]
  },
  {
   "cell_type": "markdown",
   "metadata": {},
   "source": [
    "### <center> Вариант №4 </center>"
   ]
  },
  {
   "cell_type": "markdown",
   "metadata": {},
   "source": [
    "$ y = ctg(x) $\n",
    "\n",
    "а)$ x_i = \\displaystyle\\frac{\\pi}{8}, \\; \\displaystyle\\frac{2\\pi}{8}, \\; \\displaystyle\\frac{3\\pi}{8}, \\; \\displaystyle\\frac{4\\pi}{8} $\n",
    "\n",
    "б)$ x_i = \\displaystyle\\frac{\\pi}{8}, \\; \\displaystyle\\frac{5\\pi}{16}, \\; \\displaystyle\\frac{3\\pi}{8}, \\; \\displaystyle\\frac{\\pi}{2} $\n",
    "\n",
    "$x^{*} = \\displaystyle\\frac{\\pi}{3}$"
   ]
  },
  {
   "cell_type": "markdown",
   "metadata": {},
   "source": [
    "## <center> Решение: </center>"
   ]
  },
  {
   "cell_type": "markdown",
   "metadata": {},
   "source": [
    "### <center> Вспомогательные функции </center>"
   ]
  },
  {
   "cell_type": "markdown",
   "metadata": {},
   "source": [
    "Импортируем бибилиотеки:"
   ]
  },
  {
   "cell_type": "code",
   "execution_count": 1,
   "metadata": {},
   "outputs": [],
   "source": [
    "import matplotlib.pyplot as plt\n",
    "import math\n",
    "import sys\n",
    "import numpy as np\n",
    "from functools import reduce"
   ]
  },
  {
   "cell_type": "markdown",
   "metadata": {},
   "source": [
    "Функция $ y = ctg(x) $"
   ]
  },
  {
   "cell_type": "code",
   "execution_count": 2,
   "metadata": {},
   "outputs": [],
   "source": [
    "def f_x(x):\n",
    "    return (1.0 / math.tan(x))"
   ]
  },
  {
   "cell_type": "markdown",
   "metadata": {},
   "source": [
    "Декоратор, вычисляющий погрешность интерполяции функции $y = f(x)$ многочленом $P_n$:"
   ]
  },
  {
   "cell_type": "code",
   "execution_count": 3,
   "metadata": {},
   "outputs": [],
   "source": [
    "def with_epsilon(P):\n",
    "    def wrapper(x):\n",
    "        print(\"Погрешность интерполяции:\", abs(P(x) - f_x(x)))\n",
    "        return P(x)\n",
    "    return wrapper"
   ]
  },
  {
   "cell_type": "markdown",
   "metadata": {},
   "source": [
    "### <center> Многочлен Лагранжа </center>"
   ]
  },
  {
   "cell_type": "markdown",
   "metadata": {},
   "source": [
    "Коеффиценты $ \\left\\{ \\displaystyle\\frac{f_0}{\\displaystyle\\prod\\limits_{j = 0, j \\ne 0}^n (x_0 - x_j)}, ..., \\displaystyle\\frac{f_n}{\\displaystyle\\prod\\limits_{j = 0, j \\ne n}^n (x_n - x_j)} \\right\\}$ суммы:"
   ]
  },
  {
   "cell_type": "code",
   "execution_count": 4,
   "metadata": {},
   "outputs": [],
   "source": [
    "# Multiply elems in order\n",
    "def Prod(items = None):\n",
    "    return reduce(lambda x, y: x*y, items)\n",
    "\n",
    "# Compute order of znamenatels\n",
    "def comp_order_znam(Xi):\n",
    "    ans = []\n",
    "    for item in Xi:\n",
    "        ans.append(list(map(lambda it: item - it, filter(lambda it: it != item, Xi))))\n",
    "    return map(lambda o: 1.0 / o, map(Prod, ans))\n",
    "\n",
    "# Compute coeefs\n",
    "def comp_coeffs(Xi, Yi):\n",
    "    return [m*k for m, k in zip(Yi, comp_order_znam(Xi))]"
   ]
  },
  {
   "cell_type": "markdown",
   "metadata": {},
   "source": [
    "Функция вычисления последовательности $\\{\\omega_0, ..., \\omega_n\\}$, где $ \\omega_i = \\displaystyle\\prod\\limits_{j = 0, j \\ne i}^n (x - x_j)$"
   ]
  },
  {
   "cell_type": "code",
   "execution_count": 5,
   "metadata": {},
   "outputs": [],
   "source": [
    "# comute order of chislitels\n",
    "def omega_order(x, Xi):\n",
    "    ans = []\n",
    "    for item in Xi:\n",
    "        ans.append(list(map(lambda it: x - it, filter(lambda it: it != item, Xi))))\n",
    "    return map(Prod, ans)"
   ]
  },
  {
   "cell_type": "markdown",
   "metadata": {},
   "source": [
    "Функция вычисляет многочлен Лагранжа $ L_n(x) = \\displaystyle\\sum\\limits_{i = 0}^n f_n \\displaystyle\\prod\\limits_{j = 0, j \\ne n}^n \\frac{(x - x_j)}{(x_n - x_j)} $ проводя препроцессинг коеффицентов независящих от $x$:"
   ]
  },
  {
   "cell_type": "code",
   "execution_count": 6,
   "metadata": {},
   "outputs": [],
   "source": [
    "def lagrange_func(Xi, Yi):\n",
    "    #compute coeefs\n",
    "    coeffs = comp_coeffs(Xi, Yi)\n",
    "    #return func\n",
    "    return lambda x: sum([k*m for k, m in zip(coeffs, omega_order(x, Xi))])"
   ]
  },
  {
   "cell_type": "markdown",
   "metadata": {},
   "source": [
    "### <center> Многочлен Нютона </center>"
   ]
  },
  {
   "cell_type": "markdown",
   "metadata": {},
   "source": [
    "Функция вычисления разделенной разности: $f(x_0, x_1, ..., x_{n-1}, x_{n}) = \\displaystyle\\frac{f(x_0, x_1, ..., x_{n-1}) - f(x_1, ..., x_{n-1}, x_n)}{x_0 - x_n}$ с мемоизацией ранее подсчитанных разностей:"
   ]
  },
  {
   "cell_type": "code",
   "execution_count": 7,
   "metadata": {},
   "outputs": [],
   "source": [
    "_memo = {}\n",
    "\n",
    "# Set in memo values of f(x) that we get from table\n",
    "def values_set(Xi, Yi):\n",
    "    _memo.clear()\n",
    "    _memo.update(dict(zip(Xi, Yi)))\n",
    "    \n",
    "def value_add(x, y):\n",
    "    _memo.update({x: y})\n",
    "\n",
    "def f(*args):\n",
    "    s = len(args) - 1\n",
    "    if not s:\n",
    "        return _memo[args[0]]\n",
    "    elif args in _memo:\n",
    "        return _memo[args]\n",
    "    args1 = args[:s]\n",
    "    args2 = args[1:]\n",
    "    ans = (f(*args1) - f(*args2)) / (args[0] - args[s])\n",
    "    _memo.update({args: ans})\n",
    "    return ans"
   ]
  },
  {
   "cell_type": "markdown",
   "metadata": {},
   "source": [
    "Функция вычисления произведения $ p_i = \\displaystyle\\prod\\limits_{j = 0}^{i - 1} (x - x_j)$"
   ]
  },
  {
   "cell_type": "code",
   "execution_count": 8,
   "metadata": {},
   "outputs": [],
   "source": [
    "def order_mult(x, Xi, i):\n",
    "    if not i:\n",
    "        return 1.0\n",
    "    return reduce(lambda a, b: a * b, map(lambda v: x - v, Xi[:i]))"
   ]
  },
  {
   "cell_type": "markdown",
   "metadata": {},
   "source": [
    "Функция вычисления интерполяционного многочлена $P_n(x) = f(x_0) + (x - x_0)f(x_0, x_1) + ... + (x - x_0)...(x - x_{n-1})f(x_0, ..., x_n)$, а также функция добавления к подсчитанному многочлену нового узла:"
   ]
  },
  {
   "cell_type": "code",
   "execution_count": 9,
   "metadata": {},
   "outputs": [],
   "source": [
    "def newton_interpol(Xi, Yi):\n",
    "    values_set(Xi, Yi)\n",
    "    return lambda x: sum([order_mult(x, Xi, i) * f(*tuple(Xi[:i+1])) for i in range(len(Xi))])\n",
    "\n",
    "def add_to_newton(Xi, Yi, x, y, Pn):\n",
    "    Xi.append(x)\n",
    "    Yi.append(y)\n",
    "    value_add(x, y)\n",
    "    return lambda x: Pn(x) + order_mult(x, Xi, len(Xi) - 1) * f(*tuple(Xi))"
   ]
  },
  {
   "cell_type": "markdown",
   "metadata": {},
   "source": [
    "### <center> Демонстрация работы </center>"
   ]
  },
  {
   "cell_type": "markdown",
   "metadata": {},
   "source": [
    "**а)** Начальные значения задаем в коде:"
   ]
  },
  {
   "cell_type": "code",
   "execution_count": 10,
   "metadata": {},
   "outputs": [],
   "source": [
    "Xi = [math.pi/8, 2*math.pi/8, 3*math.pi/8, 4*math.pi/8]\n",
    "Yi = list(map(f_x, Xi))\n",
    "Xt = math.pi/3.0"
   ]
  },
  {
   "cell_type": "markdown",
   "metadata": {},
   "source": [
    "Протестируем *Лагранжа*:"
   ]
  },
  {
   "cell_type": "code",
   "execution_count": 11,
   "metadata": {},
   "outputs": [
    {
     "name": "stdout",
     "output_type": "stream",
     "text": [
      "Погрешность интерполяции: 0.019375460635387087\n",
      "Значение интерпояции: 0.5579748085542389\n"
     ]
    }
   ],
   "source": [
    "Ln = lagrange_func(Xi, Yi)\n",
    "\n",
    "Ln_e = with_epsilon(Ln)\n",
    "\n",
    "print(\"Значение интерпояции:\", Ln_e(Xt))"
   ]
  },
  {
   "cell_type": "markdown",
   "metadata": {},
   "source": [
    "Протестируем *Ньютона*:"
   ]
  },
  {
   "cell_type": "code",
   "execution_count": 12,
   "metadata": {},
   "outputs": [
    {
     "name": "stdout",
     "output_type": "stream",
     "text": [
      "Погрешность интерполяции: 0.0193754606353872\n",
      "Значение интерпояции: 0.5579748085542388\n"
     ]
    }
   ],
   "source": [
    "Pn = newton_interpol(Xi, Yi)\n",
    "\n",
    "Pn_e = with_epsilon(Pn)\n",
    "\n",
    "print(\"Значение интерпояции:\", Pn_e(Xt))"
   ]
  },
  {
   "cell_type": "markdown",
   "metadata": {},
   "source": [
    "*Ньютону* можно добавлять новые узлы без перерасчета старых:"
   ]
  },
  {
   "cell_type": "code",
   "execution_count": 13,
   "metadata": {},
   "outputs": [
    {
     "name": "stdout",
     "output_type": "stream",
     "text": [
      "Погрешность интерполяции: 0.012762258287688621\n",
      "Значение интерпояции: 0.5901125274773146\n"
     ]
    }
   ],
   "source": [
    "Pn = add_to_newton(Xi, Yi, 2.0*math.pi/5.0, f_x(2.0*math.pi/5.0), Pn)\n",
    "\n",
    "Pn_e = with_epsilon(Pn)\n",
    "\n",
    "print(\"Значение интерпояции:\", Pn_e(Xt))"
   ]
  },
  {
   "cell_type": "markdown",
   "metadata": {},
   "source": [
    "**б)** Начальные данные считаем из файла:"
   ]
  },
  {
   "cell_type": "code",
   "execution_count": 14,
   "metadata": {},
   "outputs": [],
   "source": [
    "Xi = []\n",
    "Yi = []\n",
    "with open(\"data/d1.txt\", \"r\") as file:\n",
    "    Xi = list(map(float, file.readline().split()))\n",
    "    Yi = list(map(float, file.readline().split()))\n",
    "    Xt = float(file.readline())"
   ]
  },
  {
   "cell_type": "markdown",
   "metadata": {},
   "source": [
    "*Лагранж:*"
   ]
  },
  {
   "cell_type": "code",
   "execution_count": 15,
   "metadata": {},
   "outputs": [
    {
     "name": "stdout",
     "output_type": "stream",
     "text": [
      "Погрешность интерполяции: 0.0038548965315179373\n",
      "Значение интерпояции: 0.573495372658108\n"
     ]
    }
   ],
   "source": [
    "Ln = lagrange_func(Xi, Yi)\n",
    "\n",
    "Ln_e = with_epsilon(Ln)\n",
    "\n",
    "print(\"Значение интерпояции:\", Ln_e(Xt))"
   ]
  },
  {
   "cell_type": "markdown",
   "metadata": {},
   "source": [
    "*Ньютон:*"
   ]
  },
  {
   "cell_type": "code",
   "execution_count": 16,
   "metadata": {},
   "outputs": [
    {
     "name": "stdout",
     "output_type": "stream",
     "text": [
      "Погрешность интерполяции: 0.0038548965315182704\n",
      "Значение интерпояции: 0.5734953726581077\n"
     ]
    }
   ],
   "source": [
    "Pn = newton_interpol(Xi, Yi)\n",
    "Pn(Xt)\n",
    "\n",
    "Pn_e = with_epsilon(Pn)\n",
    "\n",
    "print(\"Значение интерпояции:\", Pn_e(Xt))"
   ]
  },
  {
   "cell_type": "markdown",
   "metadata": {},
   "source": [
    "### <center> Графическое сравнение </center>"
   ]
  },
  {
   "cell_type": "code",
   "execution_count": 17,
   "metadata": {},
   "outputs": [
    {
     "data": {
      "image/png": "[encoded data removed]",
      "text/plain": [
       "<Figure size 1224x576 with 1 Axes>"
      ]
     },
     "metadata": {
      "needs_background": "light"
     },
     "output_type": "display_data"
    }
   ],
   "source": [
    "x = np.arange(0.4, 1.2, 0.001)\n",
    "Xi = np.arange(0.4, 1.001, 0.2)\n",
    "\n",
    "Yi = list(map(f_x, Xi))\n",
    "\n",
    "Ln = lagrange_func(Xi, Yi)\n",
    "y1 = list(map(f_x, x))\n",
    "y2 = list(map(Ln, x)) \n",
    "\n",
    "fig = plt.figure(figsize=(17, 8))\n",
    "ax1 = fig.add_subplot(111)\n",
    "\n",
    "line1, = ax1.plot(x, y1, 'g', label=\"f(x)\")\n",
    "ax1.set_xlabel('x')\n",
    "ax1.set_ylabel('y', color='g')\n",
    "\n",
    "\n",
    "# create line plot of y2(x)\n",
    "line2, = ax1.plot(x, y2, 'r', label=\"Ln(x)\")\n",
    "\n",
    "ax1.plot(list(Xi), list(Yi), 'o', label = \"Points\")\n",
    "\n",
    "# set title, plot limits, etc\n",
    "plt.title('Интерполяционный член Ln(x) и исходная функция f(x)')\n",
    "plt.xlim(0.4, 1.2)\n",
    "\n",
    "\n",
    "# add a legend, and position it on the upper right\n",
    "plt.legend((line1, line2), (\"f(x)\", \"Ln(x)\"))\n",
    "\n",
    "plt.show()"
   ]
  },
  {
   "cell_type": "code",
   "execution_count": 18,
   "metadata": {},
   "outputs": [
    {
     "data": {
      "image/png": "[encoded data removed]",
      "text/plain": [
       "<Figure size 1224x576 with 1 Axes>"
      ]
     },
     "metadata": {
      "needs_background": "light"
     },
     "output_type": "display_data"
    }
   ],
   "source": [
    "Pn = newton_interpol(Xi, Yi)\n",
    "y2 = list(map(Pn, x)) \n",
    "\n",
    "fig = plt.figure(figsize=(17, 8))\n",
    "ax1 = fig.add_subplot(111)\n",
    "\n",
    "line1, = ax1.plot(x, y1, 'g', label=\"f(x)\")\n",
    "ax1.set_xlabel('x')\n",
    "ax1.set_ylabel('y', color='g')\n",
    "\n",
    "\n",
    "# create line plot of y2(x)\n",
    "line2, = ax1.plot(x, y2, 'b', label=\"Pn(x)\")\n",
    "\n",
    "ax1.plot(list(Xi), list(Yi), 'o', label = \"Points\")\n",
    "\n",
    "# set title, plot limits, etc\n",
    "plt.title('Интерполяционный член Ln(x) и исходная функция f(x)')\n",
    "plt.xlim(0.4, 1.2)\n",
    "\n",
    "\n",
    "# add a legend, and position it on the upper right\n",
    "plt.legend((line1, line2), (\"f(x)\", \"Pn(x)\"))\n",
    "\n",
    "plt.show()"
   ]
  },
  {
   "cell_type": "markdown",
   "metadata": {},
   "source": [
    "###### <center>Сделано Бронниковым Максимом</center>\n",
    "###### <center>01.04.2020</center>"
   ]
  }
 ],
 "metadata": {
  "kernelspec": {
   "display_name": "Python 3",
   "language": "python",
   "name": "python3"
  },
  "language_info": {
   "codemirror_mode": {
    "name": "ipython",
    "version": 3
   },
   "file_extension": ".py",
   "mimetype": "text/x-python",
   "name": "python",
   "nbconvert_exporter": "python",
   "pygments_lexer": "ipython3",
   "version": "3.7.6"
  }
 },
 "nbformat": 4,
 "nbformat_minor": 4
}

{
 "cells": [
  {
   "cell_type": "markdown",
   "metadata": {},
   "source": [
    "#### <left>Бронников Максим Андреевич</left>"
   ]
  },
  {
   "cell_type": "markdown",
   "metadata": {},
   "source": [
    "*M8О-307Б, №4 по списку*"
   ]
  },
  {
   "cell_type": "markdown",
   "metadata": {},
   "source": [
    "#   <center>Лабораторная работа №3</center>\n",
    "### <center> Задание №2 </center>"
   ]
  },
  {
   "cell_type": "markdown",
   "metadata": {},
   "source": [
    "**Построить кубический сплайн для функции, заданной в узлах интерполяции, предполагая, что сплайн имеет нулевую кривизну при $ x = x_0 $  и $ x = x_4 $ . Вычислить значение функции в точке $ x = x^* $.**"
   ]
  },
  {
   "cell_type": "markdown",
   "metadata": {},
   "source": [
    "### <center> Вариант №4 </center>"
   ]
  },
  {
   "cell_type": "markdown",
   "metadata": {},
   "source": [
    "$ y = 2.4142, 1.0818, 0.50953, 0.11836, -0.24008. $\n",
    "\n",
    "$ x_i = 1.0, 1.9, 2.8, 3.7, 4.6. $\n",
    "\n",
    "\n",
    "$x^{*} = 2.66666667$"
   ]
  },
  {
   "cell_type": "markdown",
   "metadata": {},
   "source": [
    "## <center> Решение: </center>"
   ]
  },
  {
   "cell_type": "markdown",
   "metadata": {},
   "source": [
    "### <center> *Вспомогательные функции* </center>"
   ]
  },
  {
   "cell_type": "markdown",
   "metadata": {},
   "source": [
    "Импортируем бибилиотеки:"
   ]
  },
  {
   "cell_type": "code",
   "execution_count": 1,
   "metadata": {},
   "outputs": [],
   "source": [
    "import matplotlib.pyplot as plt\n",
    "import math\n",
    "import sys\n",
    "import numpy as np\n",
    "from functools import reduce"
   ]
  },
  {
   "cell_type": "markdown",
   "metadata": {},
   "source": [
    "Функция бинарного поиска в списке:"
   ]
  },
  {
   "cell_type": "code",
   "execution_count": 2,
   "metadata": {},
   "outputs": [],
   "source": [
    "def bin_search(X, val):\n",
    "    val\n",
    " \n",
    "    mid = len(X) // 2\n",
    "    low = 0\n",
    "    high = len(X) - 1\n",
    " \n",
    "    while X[mid] != val and low <= high:\n",
    "        if val > X[mid]:\n",
    "            low = mid + 1\n",
    "        else:\n",
    "            high = mid - 1\n",
    "        mid = (low + high) // 2\n",
    "    return mid"
   ]
  },
  {
   "cell_type": "markdown",
   "metadata": {},
   "source": [
    "Функция сортировки списка:"
   ]
  },
  {
   "cell_type": "code",
   "execution_count": 3,
   "metadata": {},
   "outputs": [],
   "source": [
    "def sorting(Xi, Yi):\n",
    "    to_sort = list(zip(Xi, Yi))\n",
    "    to_sort.sort(key=lambda x: x[0])\n",
    "    L1 = list(map(lambda x: x[0], to_sort))\n",
    "    L2 = list(map(lambda x: x[1], to_sort))\n",
    "    return L1, L2"
   ]
  },
  {
   "cell_type": "markdown",
   "metadata": {},
   "source": [
    "Решение трёхдиагональной системы  методом прогонки:"
   ]
  },
  {
   "cell_type": "code",
   "execution_count": 4,
   "metadata": {},
   "outputs": [],
   "source": [
    "def race_method(A, b):\n",
    "    P = [-item[2] for item in A]\n",
    "    Q = [item for item in b]\n",
    "    \n",
    "    P[0] /= A[0][1]\n",
    "    Q[0] /= A[0][1]\n",
    "    \n",
    "    for i in range(1, len(b)):\n",
    "        z = (A[i][1] + A[i][0] * P[i-1])\n",
    "        P[i] /= z\n",
    "        Q[i] -= A[i][0] * Q[i-1]\n",
    "        Q[i] /= z\n",
    "    \n",
    "    x = [item for item in Q]\n",
    "    \n",
    "    for i in range(len(x) - 2, -1, -1):\n",
    "        x[i] += P[i] * x[i + 1]\n",
    "    \n",
    "    return x"
   ]
  },
  {
   "cell_type": "markdown",
   "metadata": {},
   "source": [
    "### <center> *Кубический сплайн* </center>"
   ]
  },
  {
   "cell_type": "markdown",
   "metadata": {},
   "source": [
    "Функции вычисления коэффицентов $ h_i = x_i - x_{i-1} $ и $ c_i $, удовлетворяющих условию: $ h_{i-1}c_{i-1} + 2(h_{i-1} + h_{i}) + h_{i}c_{i+1} = 3\\left(\\displaystyle\\frac{f_i - f_{i-1}}{h_i} - \\displaystyle\\frac{f_{i-1} - f_{i-2}}{h_{i-1}}\\right) $, для $ i = 2,3,...,n $, где $ c_1 = c_{n+1} = 0 $"
   ]
  },
  {
   "cell_type": "code",
   "execution_count": 5,
   "metadata": {},
   "outputs": [],
   "source": [
    "def compute_h(X):\n",
    "    h = [X[i] - X[i - 1] for i in range(1, len(X))]\n",
    "    return h\n",
    "\n",
    "def compute_c(h, Y):\n",
    "    A = [[h[i - 1], 2.0*(h[i - 1] + h[i]), h[i]] for i in range(1, len(h))]\n",
    "    A[0][0] = A[-1][2] = 0.0\n",
    "    \n",
    "    v = [3.0*((Yi[i + 1] - Y[i])/h[i] - (Y[i] - Y[i - 1])/h[i - 1]) for i in range(1, len(h))]\n",
    "    \n",
    "    return [0.0] + race_method(A, v)"
   ]
  },
  {
   "cell_type": "markdown",
   "metadata": {},
   "source": [
    "Функции вычисления остальных коэффицентов:\n",
    "\n",
    "$ a_i = f_{i-1} $, \n",
    "\n",
    "$b_i = \\displaystyle\\frac{(f_i - f_{i-1})}{h_i} - \\displaystyle\\frac{h_i}{3}(c_{i+1} + 2c_i)$, \n",
    "\n",
    "$ d_i = \\displaystyle\\frac{c_{i+1} - c_i}{3 h_i} $, \n",
    "\n",
    "для $ i = 1,3,...,n $, где $ c_1 = c_{n+1} = 0 $"
   ]
  },
  {
   "cell_type": "code",
   "execution_count": 6,
   "metadata": {},
   "outputs": [],
   "source": [
    "def compute_a(Y):\n",
    "    a = list(Y[:len(Y)-1])\n",
    "    return a\n",
    "\n",
    "def compute_b(Y, h, c):\n",
    "    b = [(Y[i] - Y[i-1])/h[i-1] - (h[i-1]/3.0)*(2.0*c[i-1] + c[i]) for i in range(1, len(h))]\n",
    "    b.append((Y[-1] - Y[-2])/h[-1] - (2.0*h[-1]*c[-1])/3.0)\n",
    "    return b\n",
    "\n",
    "def compute_d(h, c):\n",
    "    d = [(c[i] - c[i-1])/(3.0*h[i-1]) for i in range(1, len(h))]\n",
    "    d.append(-c[-1]/(3.0*h[-1]))\n",
    "    return d"
   ]
  },
  {
   "cell_type": "markdown",
   "metadata": {},
   "source": [
    "Функция вычисляет многочлен кубической интерполяции: $ S_n(x) = a_i + b_{i}(x - x_{i-1}) + c_{i}(x - x_{i-1})^2 + d_{i}(x - x_{i-1})^3 $, при $ x_{i-1} \\leq x \\leq x_i $, $ i = 1, 2, ..., n. $"
   ]
  },
  {
   "cell_type": "code",
   "execution_count": 7,
   "metadata": {},
   "outputs": [],
   "source": [
    "def qubic_interpol(Xi, Yi):\n",
    "    X, Y = sorting(Xi, Yi)\n",
    "    h = compute_h(X)\n",
    "    c = compute_c(h, Y)\n",
    "    a = compute_a(Y)\n",
    "    b = compute_b(Y, h, c)\n",
    "    d = compute_d(h, c)\n",
    "    def interpol(x):\n",
    "        pos = bin_search(X, x)\n",
    "        if pos < 0:\n",
    "            return b[0]*x + a[0] - b[0]*X[0]\n",
    "        elif pos == len(X) - 1:\n",
    "            return Y[-1] + (b[-1] + 2.0*c[-1]*h[-1] + 3.0*d[-1]*h[-1]*h[-1])*(x - X[-1])\n",
    "        return a[pos] + b[pos]*(x - X[pos]) + c[pos]*((x - X[pos])**2) + d[pos] * ((x - X[pos])**3)\n",
    "    return interpol"
   ]
  },
  {
   "cell_type": "markdown",
   "metadata": {},
   "source": [
    "### <center> *Демонстрация работы* </center>"
   ]
  },
  {
   "cell_type": "markdown",
   "metadata": {},
   "source": [
    "**а)** Начальные значения из методички задаем в коде:"
   ]
  },
  {
   "cell_type": "code",
   "execution_count": 8,
   "metadata": {},
   "outputs": [],
   "source": [
    "Xi = [0.0, 1.0, 2.0, 3.0, 4.0]\n",
    "Yi = [0.0, 1.8415, 2.9093, 3.1411, 3.2432]\n",
    "Xt = 1.5"
   ]
  },
  {
   "cell_type": "markdown",
   "metadata": {},
   "source": [
    "Протестируем *Кубическую интерполяцию:*"
   ]
  },
  {
   "cell_type": "code",
   "execution_count": 9,
   "metadata": {},
   "outputs": [
    {
     "name": "stdout",
     "output_type": "stream",
     "text": [
      "Значение интерпояции: 2.4969642857142857\n"
     ]
    }
   ],
   "source": [
    "Sn = qubic_interpol(Xi, Yi)\n",
    "\n",
    "print(\"Значение интерпояции:\", Sn(Xt))"
   ]
  },
  {
   "cell_type": "markdown",
   "metadata": {},
   "source": [
    "**б)** Начальные данные нашего варианта считаем из файла:"
   ]
  },
  {
   "cell_type": "code",
   "execution_count": 10,
   "metadata": {},
   "outputs": [],
   "source": [
    "Xi = []\n",
    "Yi = []\n",
    "with open(\"data/d2.txt\", \"r\") as file:\n",
    "    Xi = list(map(float, file.readline().split()))\n",
    "    Yi = list(map(float, file.readline().split()))\n",
    "    Xt = float(file.readline())"
   ]
  },
  {
   "cell_type": "markdown",
   "metadata": {},
   "source": [
    "*Кубическая интерполяция:*"
   ]
  },
  {
   "cell_type": "code",
   "execution_count": 11,
   "metadata": {},
   "outputs": [
    {
     "name": "stdout",
     "output_type": "stream",
     "text": [
      "Значение интерпояции: 0.5677413514650418\n"
     ]
    }
   ],
   "source": [
    "Sn = qubic_interpol(Xi, Yi)\n",
    "\n",
    "print(\"Значение интерпояции:\", Sn(Xt))"
   ]
  },
  {
   "cell_type": "markdown",
   "metadata": {},
   "source": [
    "### <center> *Графическое отображение* </center>"
   ]
  },
  {
   "cell_type": "code",
   "execution_count": 12,
   "metadata": {},
   "outputs": [
    {
     "data": {
      "image/png": "[encoded data removed]",
      "text/plain": [
       "<Figure size 1224x576 with 1 Axes>"
      ]
     },
     "metadata": {
      "needs_background": "light"
     },
     "output_type": "display_data"
    }
   ],
   "source": [
    "x = np.arange(0.9, 4.7, 0.005)\n",
    "\n",
    "y = list(map(Sn, x)) \n",
    "\n",
    "fig = plt.figure(figsize=(17, 8))\n",
    "ax1 = fig.add_subplot(111)\n",
    "\n",
    "line1, = ax1.plot(x, y, 'y', label=\"f(x)\")\n",
    "ax1.set_xlabel('x')\n",
    "ax1.set_ylabel('y', color='g')\n",
    "\n",
    "ax1.plot(list(Xi), list(Yi), 'o', label = \"Points\")\n",
    "\n",
    "# set title, plot limits, etc\n",
    "plt.title('Кубическая интерполяция')\n",
    "plt.xlim(0.9, 4.7)\n",
    "\n",
    "\n",
    "# add a legend, and position it on the upper right\n",
    "plt.legend((line1,), (\"Sn(x)\",))\n",
    "\n",
    "plt.show()"
   ]
  },
  {
   "cell_type": "markdown",
   "metadata": {},
   "source": [
    "###### <center>Сделано Бронниковым Максимом</center>\n",
    "###### <center>01.04.2020</center>"
   ]
  }
 ],
 "metadata": {
  "kernelspec": {
   "display_name": "Python 3",
   "language": "python",
   "name": "python3"
  },
  "language_info": {
   "codemirror_mode": {
    "name": "ipython",
    "version": 3
   },
   "file_extension": ".py",
   "mimetype": "text/x-python",
   "name": "python",
   "nbconvert_exporter": "python",
   "pygments_lexer": "ipython3",
   "version": "3.7.6"
  }
 },
 "nbformat": 4,
 "nbformat_minor": 4
}

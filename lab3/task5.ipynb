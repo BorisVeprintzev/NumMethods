{
 "cells": [
  {
   "cell_type": "markdown",
   "metadata": {},
   "source": [
    "#### <left>Бронников Максим Андреевич</left>"
   ]
  },
  {
   "cell_type": "markdown",
   "metadata": {},
   "source": [
    "*M8О-307Б, №4 по списку*"
   ]
  },
  {
   "cell_type": "markdown",
   "metadata": {},
   "source": [
    "#   <center>Лабораторная работа №3</center>\n",
    "### <center> Задание №5 </center>"
   ]
  },
  {
   "cell_type": "markdown",
   "metadata": {},
   "source": [
    "**Вычислить определенный интеграл $ \\displaystyle F = \\int\\limits_{x_0}^{x_k}ydx $ , методами прямоугольников, трапеций, Симпсона с шагами: а)$h_1$, б)$h_2$.** \n",
    "\n",
    "**Оценить погрешность вычислений, используя  Ме­тод Рунге-Ромберга.**"
   ]
  },
  {
   "cell_type": "markdown",
   "metadata": {},
   "source": [
    "### <center> Вариант №4 </center>"
   ]
  },
  {
   "cell_type": "markdown",
   "metadata": {},
   "source": [
    "$ y = \\displaystyle\\frac{3x + 4}{2x + 7} $\n",
    "\n",
    "$ x_0 = -2, \\; x_k = 2 $\n",
    "\n",
    "а) $ h_1 = 1.0 $\n",
    "\n",
    "б) $ h_2 = 0.5 $"
   ]
  },
  {
   "cell_type": "markdown",
   "metadata": {},
   "source": [
    "## <center> Решение: </center>"
   ]
  },
  {
   "cell_type": "markdown",
   "metadata": {},
   "source": [
    "### <center> Вспомогательные функции </center>"
   ]
  },
  {
   "cell_type": "markdown",
   "metadata": {},
   "source": [
    "Импортируем бибилиотеки:"
   ]
  },
  {
   "cell_type": "code",
   "execution_count": 1,
   "metadata": {
    "scrolled": true
   },
   "outputs": [],
   "source": [
    "import matplotlib.pyplot as plt\n",
    "import math\n",
    "import sys\n",
    "import numpy as np\n",
    "from functools import reduce"
   ]
  },
  {
   "cell_type": "markdown",
   "metadata": {},
   "source": [
    "Функция $ y = \\displaystyle\\frac{3x + 4}{2x + 7} $"
   ]
  },
  {
   "cell_type": "code",
   "execution_count": 2,
   "metadata": {
    "scrolled": true
   },
   "outputs": [],
   "source": [
    "def f_x(x):\n",
    "    return (3*x + 4) / (2*x + 7)"
   ]
  },
  {
   "cell_type": "markdown",
   "metadata": {},
   "source": [
    "Значение определенного интеграла $ \\displaystyle F = \\int\\limits_{a}^{b}y(x) dx $ от функции $ y(x) $:"
   ]
  },
  {
   "cell_type": "code",
   "execution_count": 3,
   "metadata": {
    "scrolled": true
   },
   "outputs": [],
   "source": [
    "def F_x(a, b):\n",
    "    return ((13*math.log(abs(2*a + 7)) - 6*a) - (13*math.log(abs(2*b + 7)) - 6*b)) / 4"
   ]
  },
  {
   "cell_type": "markdown",
   "metadata": {},
   "source": [
    "Декоратор, вычисляющий погрешность интeгрирования функции $y = f(x)$ приближением $F_p$:"
   ]
  },
  {
   "cell_type": "code",
   "execution_count": 4,
   "metadata": {
    "scrolled": true
   },
   "outputs": [],
   "source": [
    "def epsilon(a, b, F):\n",
    "    return abs(F_x(a, b) - F)"
   ]
  },
  {
   "cell_type": "markdown",
   "metadata": {},
   "source": [
    "### <center> Формула прямоугольников </center>"
   ]
  },
  {
   "cell_type": "markdown",
   "metadata": {},
   "source": [
    "В случае интегрирования с постоянным шагом формула приближенного вычисления $ F_p = h_j \\displaystyle\\sum\\limits_{i = 0}^{k-1} y \\left( \\frac{2 x_i + h_j}{2} \\right) $ реализуется функцией:"
   ]
  },
  {
   "cell_type": "code",
   "execution_count": 5,
   "metadata": {
    "scrolled": true
   },
   "outputs": [],
   "source": [
    "def rectangle_method(a, b, h, y):\n",
    "    integ = 0.0\n",
    "    x = a\n",
    "    while x < b:\n",
    "        integ += y(x + h / 2)\n",
    "        x += h\n",
    "    return h*integ"
   ]
  },
  {
   "cell_type": "markdown",
   "metadata": {},
   "source": [
    "### <center> Формула трапеций </center>"
   ]
  },
  {
   "cell_type": "markdown",
   "metadata": {},
   "source": [
    "В случае интегрирования с постоянным шагом формула приближенного вычисления $ F_j = h_j \\left( \\displaystyle\\frac{y(x_0) + y(x_k)}{2} + \\displaystyle\\sum\\limits_{i = 1}^{k-1} y(x_i) \\right)$ реализуется:"
   ]
  },
  {
   "cell_type": "code",
   "execution_count": 6,
   "metadata": {
    "scrolled": true
   },
   "outputs": [],
   "source": [
    "def trapeze_method(a, b, h, y):\n",
    "    integ = y(a) / 2\n",
    "    x = a + h\n",
    "    while x < b:\n",
    "        integ += y(x)\n",
    "        x += h\n",
    "    return h*(integ + y(x) / 2)"
   ]
  },
  {
   "cell_type": "markdown",
   "metadata": {},
   "source": [
    "### <center> Метод Симпсона </center>"
   ]
  },
  {
   "cell_type": "markdown",
   "metadata": {},
   "source": [
    "В случае интегрирования с постоянным шагом формула приближенного вычисления $ F_j = \\displaystyle\\frac{h_j}{3} \\displaystyle\\sum\\limits_{i = 1}^{k - 1} (y(x_{i-1}) + 4 y(x_i) + y(x_{i + 1})) $ реализуется:"
   ]
  },
  {
   "cell_type": "code",
   "execution_count": 7,
   "metadata": {
    "scrolled": true
   },
   "outputs": [],
   "source": [
    "def simpson_method(a, b, h, y):\n",
    "    integ = 0.0\n",
    "    x = a + h\n",
    "    while x < b:\n",
    "        integ += y(x - h) + 4*y(x) + y(x + h)\n",
    "        x += h + h\n",
    "    return h*integ/3"
   ]
  },
  {
   "cell_type": "markdown",
   "metadata": {},
   "source": [
    "### <center> Метод Рунге-Ромберга-Ричардсона </center>"
   ]
  },
  {
   "cell_type": "markdown",
   "metadata": {},
   "source": [
    "В случае приближённого интегрирования $F_1$ и $F_2$ с постоянными шагами $h_1$ и $h_2$ и порядком точности $p$, где $h_1 < h_2 $ формула приближенного вычисления порядка точности $p + 1 \\;$ $ F_p = F_1 + \\displaystyle\\frac{F_1 - F_2}{\\left(\\displaystyle\\frac{h_2}{h_1}\\right)^p - 1} \\; $ реализуется:"
   ]
  },
  {
   "cell_type": "code",
   "execution_count": 8,
   "metadata": {
    "scrolled": true
   },
   "outputs": [],
   "source": [
    "def runge_romberg_rich_method(h1, F1, h2, F2, p):\n",
    "    if h1 < h2:\n",
    "        return F1 + (F1 - F2) / ((h2 / h1)**p - 1)\n",
    "    return F2 + (F2 - F1) / ((h1 / h2)**p - 1)"
   ]
  },
  {
   "cell_type": "markdown",
   "metadata": {},
   "source": [
    "### <center> Демонстрация работы </center>"
   ]
  },
  {
   "cell_type": "markdown",
   "metadata": {},
   "source": [
    "**а)** Начальные значения задаем в коде:"
   ]
  },
  {
   "cell_type": "code",
   "execution_count": 9,
   "metadata": {
    "scrolled": true
   },
   "outputs": [],
   "source": [
    "X0 = -2.0\n",
    "X1 = 2.0\n",
    "h1 = 1.0"
   ]
  },
  {
   "cell_type": "markdown",
   "metadata": {},
   "source": [
    "Протестируем *метод прямоугольников*:"
   ]
  },
  {
   "cell_type": "code",
   "execution_count": 10,
   "metadata": {
    "scrolled": true
   },
   "outputs": [
    {
     "name": "stdout",
     "output_type": "stream",
     "text": [
      "Приближенное значение интеграла: 1.8291666666666666\n"
     ]
    }
   ],
   "source": [
    "Fr1 = rectangle_method(X0, X1, h1, f_x)\n",
    "print(\"Приближенное значение интеграла:\", Fr1)"
   ]
  },
  {
   "cell_type": "markdown",
   "metadata": {},
   "source": [
    "Протестируем *метод трапеций*:"
   ]
  },
  {
   "cell_type": "code",
   "execution_count": 11,
   "metadata": {
    "scrolled": true
   },
   "outputs": [
    {
     "name": "stdout",
     "output_type": "stream",
     "text": [
      "Приближенное значение интеграла: 1.6704184704184706\n"
     ]
    }
   ],
   "source": [
    "Ft1 = trapeze_method(X0, X1, h1, f_x)\n",
    "print(\"Приближенное значение интеграла:\", Ft1)"
   ]
  },
  {
   "cell_type": "markdown",
   "metadata": {},
   "source": [
    "Протестируем *метод Симпсона:*"
   ]
  },
  {
   "cell_type": "code",
   "execution_count": 12,
   "metadata": {
    "scrolled": true
   },
   "outputs": [
    {
     "name": "stdout",
     "output_type": "stream",
     "text": [
      "Приближенное значение интеграла: 1.7654641654641656\n"
     ]
    }
   ],
   "source": [
    "Fs1 = simpson_method(X0, X1, h1, f_x)\n",
    "print(\"Приближенное значение интеграла:\", Fs1)"
   ]
  },
  {
   "cell_type": "markdown",
   "metadata": {},
   "source": [
    "**б)** Начальные данные считаем из файла:"
   ]
  },
  {
   "cell_type": "code",
   "execution_count": 13,
   "metadata": {
    "scrolled": true
   },
   "outputs": [],
   "source": [
    "with open(\"data/d5.txt\", \"r\") as file:\n",
    "    X0 = float(file.readline())\n",
    "    X1 = float(file.readline())\n",
    "    h2 = float(file.readline())"
   ]
  },
  {
   "cell_type": "markdown",
   "metadata": {},
   "source": [
    "*Метод прямоугольников:*"
   ]
  },
  {
   "cell_type": "code",
   "execution_count": 14,
   "metadata": {
    "scrolled": true
   },
   "outputs": [
    {
     "name": "stdout",
     "output_type": "stream",
     "text": [
      "Приближенное значение интеграла: 1.7909819111057501\n"
     ]
    }
   ],
   "source": [
    "Fr2 = rectangle_method(X0, X1, h2, f_x)\n",
    "print(\"Приближенное значение интеграла:\", Fr2)"
   ]
  },
  {
   "cell_type": "markdown",
   "metadata": {},
   "source": [
    "*Метод трапеций:*"
   ]
  },
  {
   "cell_type": "code",
   "execution_count": 15,
   "metadata": {
    "scrolled": true
   },
   "outputs": [
    {
     "name": "stdout",
     "output_type": "stream",
     "text": [
      "Приближенное значение интеграла: 1.7497925685425686\n"
     ]
    }
   ],
   "source": [
    "Ft2 = trapeze_method(X0, X1, h2, f_x)\n",
    "print(\"Приближенное значение интеграла:\", Ft2)"
   ]
  },
  {
   "cell_type": "markdown",
   "metadata": {},
   "source": [
    "*Метод Симпсона*"
   ]
  },
  {
   "cell_type": "code",
   "execution_count": 16,
   "metadata": {
    "scrolled": true
   },
   "outputs": [
    {
     "name": "stdout",
     "output_type": "stream",
     "text": [
      "Приближенное значение интеграла: 1.7762506012506012\n"
     ]
    }
   ],
   "source": [
    "Fs2 = simpson_method(X0, X1, h2, f_x)\n",
    "print(\"Приближенное значение интеграла:\", Fs2)"
   ]
  },
  {
   "cell_type": "markdown",
   "metadata": {},
   "source": [
    "Уточним полученные приближения *методом Рунге-Ромберга-Симпсона* для приближения с заданным параметром точности $p$:"
   ]
  },
  {
   "cell_type": "markdown",
   "metadata": {},
   "source": [
    "*Методом прямоугольников:*"
   ]
  },
  {
   "cell_type": "code",
   "execution_count": 17,
   "metadata": {
    "scrolled": true
   },
   "outputs": [
    {
     "name": "stdout",
     "output_type": "stream",
     "text": [
      "Значение метода: 1.7782536592521112\n",
      "Погрешность метода: 0.0009233576754594797\n"
     ]
    }
   ],
   "source": [
    "p = 2\n",
    "Fp = runge_romberg_rich_method(h1, Fr1, h2, Fr2, p)\n",
    "print(\"Значение метода:\", Fp)\n",
    "print(\"Погрешность метода:\", epsilon(X0, X1, Fp))"
   ]
  },
  {
   "cell_type": "markdown",
   "metadata": {},
   "source": [
    "*Методом трапеций:*"
   ]
  },
  {
   "cell_type": "code",
   "execution_count": 18,
   "metadata": {
    "scrolled": true
   },
   "outputs": [
    {
     "name": "stdout",
     "output_type": "stream",
     "text": [
      "Значение метода: 1.7762506012506012\n",
      "Погрешность метода: 0.0010797003260505367\n"
     ]
    }
   ],
   "source": [
    "p = 2\n",
    "Fp = runge_romberg_rich_method(h1, Ft1, h2, Ft2, p)\n",
    "print(\"Значение метода:\", Fp)\n",
    "print(\"Погрешность метода:\", epsilon(X0, X1, Fp))"
   ]
  },
  {
   "cell_type": "markdown",
   "metadata": {},
   "source": [
    "*Методом Симпсона:*"
   ]
  },
  {
   "cell_type": "code",
   "execution_count": 19,
   "metadata": {
    "scrolled": true
   },
   "outputs": [
    {
     "name": "stdout",
     "output_type": "stream",
     "text": [
      "Значение метода: 1.7769696969696969\n",
      "Погрешность метода: 0.00036060460695486185\n"
     ]
    }
   ],
   "source": [
    "p = 4\n",
    "Fp = runge_romberg_rich_method(h1, Fs1, h2, Fs2, p)\n",
    "print(\"Значение метода:\", Fp)\n",
    "print(\"Погрешность метода:\", epsilon(X0, X1, Fp))"
   ]
  },
  {
   "cell_type": "markdown",
   "metadata": {},
   "source": [
    "### <center> Графическое отображение </center>"
   ]
  },
  {
   "cell_type": "code",
   "execution_count": 20,
   "metadata": {
    "scrolled": false
   },
   "outputs": [
    {
     "data": {
      "image/png": "[encoded data removed]",
      "text/plain": [
       "<Figure size 1224x576 with 1 Axes>"
      ]
     },
     "metadata": {
      "needs_background": "light"
     },
     "output_type": "display_data"
    }
   ],
   "source": [
    "x = [(X1 - X0) / i + 0.000001 for i in range(6, 200, 2)]\n",
    "\n",
    "y1 = list(map(lambda v: epsilon(X0, X1, rectangle_method(X0, X1, v, f_x)), x))\n",
    "y2 = list(map(lambda v: epsilon(X0, X1, trapeze_method(X0, X1, v, f_x)), x))\n",
    "y3 = list(map(lambda v: epsilon(X0, X1, simpson_method(X0, X1, v, f_x)), x))\n",
    "\n",
    "fig = plt.figure(figsize=(17, 8))\n",
    "ax1 = fig.add_subplot(111)\n",
    "\n",
    "line1, = ax1.plot(x, y1, 'r')\n",
    "line2, = ax1.plot(x, y2, 'c')\n",
    "line3, = ax1.plot(x, y3, 'y')\n",
    "\n",
    "ax1.set_xlabel('h')\n",
    "ax1.set_ylabel('e')\n",
    "\n",
    "\n",
    "# set title, plot limits, etc\n",
    "plt.title('Зависимость погрешности вычислений от длины шага h')\n",
    "plt.xlim(0.0, 0.55)\n",
    "plt.ylim(-0.001, 0.033)\n",
    "\n",
    "\n",
    "# add a legend, and position it on the upper right\n",
    "plt.legend((line1, line2, line3), (\"Метод прямоугольника\", \"Метод трапеций\", \"Метод Симпсона\"))\n",
    "\n",
    "plt.show()"
   ]
  },
  {
   "cell_type": "markdown",
   "metadata": {},
   "source": [
    "###### <center>Сделано Бронниковым Максимом</center>\n",
    "###### <center>07.04.2020</center>"
   ]
  }
 ],
 "metadata": {
  "kernelspec": {
   "display_name": "Python 3",
   "language": "python",
   "name": "python3"
  },
  "language_info": {
   "codemirror_mode": {
    "name": "ipython",
    "version": 3
   },
   "file_extension": ".py",
   "mimetype": "text/x-python",
   "name": "python",
   "nbconvert_exporter": "python",
   "pygments_lexer": "ipython3",
   "version": "3.7.6"
  }
 },
 "nbformat": 4,
 "nbformat_minor": 4
}
